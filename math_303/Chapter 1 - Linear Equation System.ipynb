{
 "cells": [
  {
   "cell_type": "code",
   "execution_count": null,
   "metadata": {},
   "outputs": [],
   "source": [
    "%matplotlib widget\n",
    "from mayavi import mlab"
   ]
  },
  {
   "cell_type": "code",
   "execution_count": 4,
   "metadata": {},
   "outputs": [],
   "source": [
    "import matplotlib.pyplot as plt\n",
    "import numpy as np\n",
    "from mpl_toolkits.mplot3d import Axes3D\n",
    "import scipy as sp\n",
    "import scipy.linalg\n",
    "import sympy as sy\n",
    "sy.init_printing() \n",
    "np.set_printoptions(precision=3)\n",
    "np.set_printoptions(suppress=True)"
   ]
  },
  {
   "cell_type": "code",
   "execution_count": null,
   "metadata": {},
   "outputs": [],
   "source": [
    "mlab.init_notebook(backend='x3d')"
   ]
  },
  {
   "cell_type": "markdown",
   "metadata": {},
   "source": [
    "We start from plotting basics in Python environment, in the meanwhile refresh the system of linear equations."
   ]
  },
  {
   "cell_type": "markdown",
   "metadata": {},
   "source": [
    "# <font face=\"gotham\" color=\"purple\"> Visualisation of A System of Two Linear Equations </font>"
   ]
  },
  {
   "cell_type": "markdown",
   "metadata": {},
   "source": [
    "Consider a linear system of two equations:\n",
    "\\begin{align}\n",
    "x+y&=6\\\\\n",
    "x-y&=-4\n",
    "\\end{align}\n",
    "Easy to solve: $(x, y)^T = (1, 5)^T$. Let's plot the linear system."
   ]
  },
  {
   "cell_type": "code",
   "execution_count": 7,
   "metadata": {},
   "outputs": [
    {
     "data": {
      "application/vnd.jupyter.widget-view+json": {
       "model_id": "6a6cda854af743ebbc5838943dbf4d16",
       "version_major": 2,
       "version_minor": 0
      },
      "text/plain": [
       "Canvas(toolbar=Toolbar(toolitems=[('Home', 'Reset original view', 'home', 'home'), ('Back', 'Back to previous …"
      ]
     },
     "metadata": {},
     "output_type": "display_data"
    }
   ],
   "source": [
    "x = np.linspace(-5, 5, 100)\n",
    "y1 = -x + 6\n",
    "y2 = x + 4\n",
    "\n",
    "fig, ax = plt.subplots(figsize = (12, 7))\n",
    "ax.scatter(1, 5, s = 200, zorder=5, color = 'r', alpha = .8) \n",
    "\n",
    "ax.plot(x, y1, lw =3, label = '$x+y=6$')\n",
    "ax.plot(x, y2, lw =3, label = '$x-y=-4$')\n",
    "ax.plot([1, 1], [0, 5], ls = '--', color = 'b', alpha = .5)\n",
    "ax.plot([-5, 1], [5, 5], ls = '--', color = 'b', alpha = .5)\n",
    "ax.set_xlim([-5, 5])\n",
    "ax.set_ylim([0, 12])\n",
    "\n",
    "ax.legend()\n",
    "s = '$(1,5)$'\n",
    "ax.text(1, 5.5, s, fontsize = 20)\n",
    "ax.set_title('Solution of $x+y=6$, $x-y=-4$', size = 22)\n",
    "ax.grid()"
   ]
  },
  {
   "cell_type": "markdown",
   "metadata": {},
   "source": [
    "# <font face=\"gotham\" color=\"purple\"> How to Draw a Plane </font>"
   ]
  },
  {
   "cell_type": "markdown",
   "metadata": {},
   "source": [
    "Before drawing a plane, let's refresh the logic of Matplotlib 3D plotting. This should be familiar to you if you are a MATLAB user. \n",
    "\n",
    "First, create meshgrids."
   ]
  },
  {
   "cell_type": "code",
   "execution_count": 5,
   "metadata": {},
   "outputs": [],
   "source": [
    "x, y = [-1, 0, 1], [-1, 0, 1]\n",
    "X, Y = np.meshgrid(x, y)"
   ]
  },
  {
   "cell_type": "markdown",
   "metadata": {},
   "source": [
    "Mathematically, meshgrids are the coordinates of <font face=\"gotham\" color=\"red\">Cartesian product</font>. To illustrate, we can plot all the coordinates of these meshgrids"
   ]
  },
  {
   "cell_type": "code",
   "execution_count": 10,
   "metadata": {},
   "outputs": [
    {
     "data": {
      "application/vnd.jupyter.widget-view+json": {
       "model_id": "375bc50022f44bc89ee0463add9f8606",
       "version_major": 2,
       "version_minor": 0
      },
      "text/plain": [
       "Canvas(toolbar=Toolbar(toolitems=[('Home', 'Reset original view', 'home', 'home'), ('Back', 'Back to previous …"
      ]
     },
     "metadata": {},
     "output_type": "display_data"
    }
   ],
   "source": [
    "fig, ax = plt.subplots(figsize = (12, 7))\n",
    "ax.scatter(X, Y, s = 200, color = 'red')\n",
    "ax.axis([-2, 3.01, -2.01, 2])\n",
    "ax.spines['left'].set_position('zero') # alternative position is 'center'\n",
    "ax.spines['right'].set_color('none')\n",
    "ax.spines['bottom'].set_position('zero')\n",
    "ax.spines['top'].set_color('none')\n",
    "ax.grid()\n",
    "plt.show()"
   ]
  },
  {
   "cell_type": "markdown",
   "metadata": {},
   "source": [
    "Try a more complicated meshgrid."
   ]
  },
  {
   "cell_type": "code",
   "execution_count": 9,
   "metadata": {},
   "outputs": [
    {
     "data": {
      "application/vnd.jupyter.widget-view+json": {
       "model_id": "9d8b829bf13249ce8e14e2bc73b46c82",
       "version_major": 2,
       "version_minor": 0
      },
      "text/plain": [
       "Canvas(toolbar=Toolbar(toolitems=[('Home', 'Reset original view', 'home', 'home'), ('Back', 'Back to previous …"
      ]
     },
     "metadata": {},
     "output_type": "display_data"
    }
   ],
   "source": [
    "x, y = np.arange(-3, 4, 1), np.arange(-3, 4, 1)\n",
    "X, Y = np.meshgrid(x, y)\n",
    "\n",
    "fig, ax = plt.subplots(figsize = (12, 12))\n",
    "ax.scatter(X, Y, s = 200, color = 'red', zorder = 3)\n",
    "ax.axis([-5, 5, -5, 5])\n",
    "\n",
    "ax.spines['left'].set_position('zero') # alternative position is 'center'\n",
    "ax.spines['right'].set_color('none')\n",
    "ax.spines['bottom'].set_position('zero')\n",
    "ax.spines['top'].set_color('none')\n",
    "ax.grid()"
   ]
  },
  {
   "cell_type": "markdown",
   "metadata": {},
   "source": [
    "Now consider the function $z = f(x, y)$, $z$ is in the $3rd$ dimension. Though Matplotlib is not meant for delicate plotting of 3D graphics, basic 3D plotting is still acceptable. \n",
    "\n",
    "For example, we define a simple plane as \n",
    "$$z= x + y$$\n",
    "Then plot $z$"
   ]
  },
  {
   "cell_type": "code",
   "execution_count": 11,
   "metadata": {},
   "outputs": [
    {
     "data": {
      "application/vnd.jupyter.widget-view+json": {
       "model_id": "9a42f621a1404ea5965c21db201dc2b3",
       "version_major": 2,
       "version_minor": 0
      },
      "text/plain": [
       "Canvas(toolbar=Toolbar(toolitems=[('Home', 'Reset original view', 'home', 'home'), ('Back', 'Back to previous …"
      ]
     },
     "metadata": {},
     "output_type": "display_data"
    }
   ],
   "source": [
    "Z = X + Y\n",
    "fig = plt.figure(figsize = (9,9))\n",
    "ax = fig.add_subplot(111, projection = '3d')\n",
    "ax.scatter(X, Y, Z, s = 100, label = '$z=x+y$')\n",
    "ax.legend()\n",
    "plt.show()"
   ]
  },
  {
   "cell_type": "markdown",
   "metadata": {},
   "source": [
    "Or we can plot it as a surface, Matplotlib will automatically interpolate values among the Cartesian coordinates such that the graph will look like a surface."
   ]
  },
  {
   "cell_type": "code",
   "execution_count": 12,
   "metadata": {},
   "outputs": [
    {
     "data": {
      "application/vnd.jupyter.widget-view+json": {
       "model_id": "dd024b438d1e4be4bc39f52632f4f071",
       "version_major": 2,
       "version_minor": 0
      },
      "text/plain": [
       "Canvas(toolbar=Toolbar(toolitems=[('Home', 'Reset original view', 'home', 'home'), ('Back', 'Back to previous …"
      ]
     },
     "metadata": {},
     "output_type": "display_data"
    }
   ],
   "source": [
    "fig = plt.figure(figsize = (9, 9))\n",
    "ax = fig.add_subplot(111, projection = '3d')\n",
    "ax.plot_surface(X, Y, Z, cmap ='viridis') # MATLAB default color map\n",
    "ax.set_xlabel('x-axis')\n",
    "ax.set_ylabel('y-axis')\n",
    "ax.set_zlabel('z-axis')\n",
    "ax.set_title('$z=x+y$', size = 18)\n",
    "plt.show()"
   ]
  },
  {
   "cell_type": "markdown",
   "metadata": {},
   "source": [
    "# <font face=\"gotham\" color=\"purple\"> Visualisation of A System of Three Linear Equations  </font>"
   ]
  },
  {
   "cell_type": "markdown",
   "metadata": {},
   "source": [
    "We have reviewed on plotting planes, now we are ready to plot several planes all together."
   ]
  },
  {
   "cell_type": "markdown",
   "metadata": {},
   "source": [
    "Consider this system of linear equations\n",
    "\\begin{align}\n",
    "x_1- 2x_2+x_3&=0\\\\\n",
    "2x_2-8x_3&=8\\\\\n",
    "-4x_1+5x_2+9x_3&=-9\n",
    "\\end{align}\n",
    "And solution is $(x_1, x_2, x_3)^T = (29, 16, 3)^T$. Let's reproduce the system visually."
   ]
  },
  {
   "cell_type": "code",
   "execution_count": 13,
   "metadata": {},
   "outputs": [
    {
     "data": {
      "application/vnd.jupyter.widget-view+json": {
       "model_id": "ab9ad0b1a8f84be4a9feae9f9a22039c",
       "version_major": 2,
       "version_minor": 0
      },
      "text/plain": [
       "Canvas(toolbar=Toolbar(toolitems=[('Home', 'Reset original view', 'home', 'home'), ('Back', 'Back to previous …"
      ]
     },
     "metadata": {},
     "output_type": "display_data"
    }
   ],
   "source": [
    "x1 = np.linspace(25, 35, 20)\n",
    "x2 = np.linspace(10, 20, 20)\n",
    "X1, X2 = np.meshgrid(x1, x2)\n",
    "\n",
    "fig = plt.figure(figsize = (9, 9))\n",
    "ax = fig.add_subplot(111, projection = '3d')\n",
    "\n",
    "X3 = 2*X2 - X1\n",
    "ax.plot_surface(X1, X2, X3, cmap ='viridis', alpha = 1) \n",
    "\n",
    "X3 = .25*X2 - 1\n",
    "ax.plot_surface(X1, X2, X3, cmap ='summer', alpha = 1)\n",
    "\n",
    "X3 = -5/9*X2 + 4/9*X1 - 1\n",
    "ax.plot_surface(X1, X2, X3, cmap ='spring', alpha = 1)\n",
    "\n",
    "ax.scatter(29, 16, 3, s = 200, color = 'black')\n",
    "plt.show()"
   ]
  },
  {
   "cell_type": "markdown",
   "metadata": {},
   "source": [
    "We are certain there is a solution, however the graph does not show the intersection of planes. The problem originates from Matplotlib's rendering algorithm, which is not designed for drawing genuine 3D graphics. It merely projects 3D objects onto 2D dimension to imitate 3D features.\n",
    "\n",
    "Mayavi is much professional in rendering 3D graphics, we give an example here. If not installed, run ```conda install -c anaconda mayavi```."
   ]
  },
  {
   "cell_type": "code",
   "execution_count": null,
   "metadata": {},
   "outputs": [],
   "source": [
    "mlab.clf()\n",
    "X1, X2 = np.mgrid[-10:10:21*1j, -5:10:21*1j]\n",
    "X3 = 6 - X1 - X2\n",
    "mlab.mesh(X1, X2, X3,colormap=\"spring\")\n",
    "X3 = 3 - 2*X1 + X2\n",
    "mlab.mesh(X1, X2, X3,colormap=\"winter\")\n",
    "X3 = 3*X1 + 2*X2 -4\n",
    "mlab.mesh(X1, X2, X3,colormap=\"summer\")\n",
    "mlab.axes()\n",
    "mlab.outline()\n",
    "mlab.points3d(1, 2, 3, color = (.8, 0.2, .2), )\n",
    "mlab.title('A System of Linear Equations')"
   ]
  },
  {
   "cell_type": "markdown",
   "metadata": {},
   "source": [
    "## <font face=\"gotham\" color=\"purple\"> Visualisation of An Inconsistent System </font>"
   ]
  },
  {
   "cell_type": "markdown",
   "metadata": {},
   "source": [
    "Now let's visualise the linear system that does not have a solution."
   ]
  },
  {
   "cell_type": "markdown",
   "metadata": {},
   "source": [
    "\\begin{align}\n",
    "x+y+z&=1\\\\\n",
    "x-y-2z&=2\\\\\n",
    "2x-z&=1\n",
    "\\end{align}\n",
    "Rearrange the system to solve for $z$:\n",
    "\n",
    "\\begin{align}\n",
    "z&=1-x-y\\\\\n",
    "z&=\\frac{x}{2}-\\frac{y}{2}+1\\\\\n",
    "z&=2x-1\n",
    "\\end{align}"
   ]
  },
  {
   "cell_type": "code",
   "execution_count": null,
   "metadata": {},
   "outputs": [],
   "source": [
    "mlab.clf()\n",
    "X, Y = np.mgrid[-5:5:21*1j, -5:5:21*1j]\n",
    "Z = 1 - X - Y\n",
    "mlab.mesh(X, Y, Z,colormap=\"spring\")\n",
    "\n",
    "Z = X/2 - Y/2 + 1\n",
    "mlab.mesh(X, Y, Z,colormap=\"summer\")\n",
    "\n",
    "Z = 2*X - 1\n",
    "mlab.mesh(X, Y, Z,colormap=\"autumn\")\n",
    "mlab.axes()\n",
    "mlab.outline()\n",
    "mlab.title('A Inconsistent System of Linear Equations')"
   ]
  },
  {
   "cell_type": "markdown",
   "metadata": {},
   "source": [
    "## <font face=\"gotham\" color=\"purple\"> Visualisation of A System With Infinite Numbers of Solutions </font>"
   ]
  },
  {
   "cell_type": "markdown",
   "metadata": {},
   "source": [
    "Our system of equations is given\n",
    "\n",
    "\\begin{align}\n",
    "y-z=&4\\\\\n",
    "2x+y+2z=&4\\\\\n",
    "2x+2y+z=&8\n",
    "\\end{align}"
   ]
  },
  {
   "cell_type": "markdown",
   "metadata": {},
   "source": [
    "Rearrange to solve for $z$\n",
    "\n",
    "\\begin{align}\n",
    "z=&y-4\\\\\n",
    "z=&2-x-\\frac{y}{2}\\\\\n",
    "z=&8-2x-2y\n",
    "\\end{align}"
   ]
  },
  {
   "cell_type": "code",
   "execution_count": null,
   "metadata": {},
   "outputs": [],
   "source": [
    "mlab.clf()\n",
    "X, Y = np.mgrid[-2:2:21*1j, 2:6:21*1j]\n",
    "Z = Y - 4\n",
    "mlab.mesh(X, Y, Z,colormap=\"spring\")\n",
    "\n",
    "Z = 2 - X - Y/2\n",
    "mlab.mesh(X, Y, Z,colormap=\"summer\")\n",
    "\n",
    "Z = 8 - 2*X - 2*Y\n",
    "mlab.mesh(X, Y, Z,colormap=\"autumn\")\n",
    "mlab.axes()\n",
    "mlab.outline()\n",
    "mlab.title('A System of Linear Equations With Infinite Number of Solutions')"
   ]
  },
  {
   "cell_type": "markdown",
   "metadata": {},
   "source": [
    "The solution of the system is $(x,y,z)=(-3z/2,z+4,z)^T$, where $z$ is a **free variable**. \n",
    "\n",
    "The solution is an infinite line in $\\mathbb{R}^3$, to visualise the solution requires setting a range of $x$ and $y$, for instance we can set\n",
    "\n",
    "\\begin{align}\n",
    "-2 \\leq x \\leq 2\\\\\n",
    "2 \\leq y \\leq 6\n",
    "\\end{align}\n",
    "\n",
    "which means\n",
    "\n",
    "\\begin{align}\n",
    "-2\\leq -\\frac32z\\leq 2\\\\\n",
    "2\\leq z+4 \\leq 6\n",
    "\\end{align}"
   ]
  },
  {
   "cell_type": "markdown",
   "metadata": {},
   "source": [
    "We can pick one inequality to set the range of $z$, e.g. second inequality: $-2 \\leq z \\leq 2$. \n",
    "\n",
    "Then plot the planes and the solutions together."
   ]
  },
  {
   "cell_type": "code",
   "execution_count": null,
   "metadata": {},
   "outputs": [],
   "source": [
    "mlab.clf()\n",
    "X, Y = np.mgrid[-2:2:21*1j, 2:6:21*1j]\n",
    "Z = Y - 4\n",
    "mlab.mesh(X, Y, Z,colormap=\"spring\")\n",
    "\n",
    "Z = 2 - X - Y/2\n",
    "mlab.mesh(X, Y, Z,colormap=\"summer\")\n",
    "\n",
    "Z = 8 - 2*X - 2*Y\n",
    "mlab.mesh(X, Y, Z,colormap=\"autumn\")\n",
    "\n",
    "ZL = np.linspace(-2, 2, 20) # ZL means Z for line, we have chosen the range [-2, 2]\n",
    "X = -3*ZL/2\n",
    "Y = ZL + 4\n",
    "\n",
    "mlab.plot3d(X, Y, ZL)\n",
    "\n",
    "mlab.axes()\n",
    "mlab.outline()\n",
    "mlab.title('A System of Linear Equations With Infinite Number of Solutions')"
   ]
  },
  {
   "cell_type": "markdown",
   "metadata": {},
   "source": [
    "# <font face=\"gotham\" color=\"purple\"> Reduced Row Echelon Form </font>"
   ]
  },
  {
   "cell_type": "markdown",
   "metadata": {},
   "source": [
    "For easy demonstration, we will be using SymPy frequently in lectures. SymPy is a very power symbolic computation library, we will see its basic features as the lectures move forward."
   ]
  },
  {
   "cell_type": "markdown",
   "metadata": {},
   "source": [
    "We define a SymPy matrix:"
   ]
  },
  {
   "cell_type": "code",
   "execution_count": 13,
   "metadata": {},
   "outputs": [
    {
     "data": {
      "text/latex": [
       "$\\displaystyle \\left[\\begin{matrix}5 & 0 & 11 & 3\\\\7 & 23 & -3 & 7\\\\12 & 11 & 3 & -4\\end{matrix}\\right]$"
      ],
      "text/plain": [
       "⎡5   0   11  3 ⎤\n",
       "⎢              ⎥\n",
       "⎢7   23  -3  7 ⎥\n",
       "⎢              ⎥\n",
       "⎣12  11  3   -4⎦"
      ]
     },
     "execution_count": 13,
     "metadata": {},
     "output_type": "execute_result"
    }
   ],
   "source": [
    "M = sy.Matrix([[5, 0, 11, 3], [7, 23, -3, 7], [12, 11, 3, -4]]); M"
   ]
  },
  {
   "cell_type": "markdown",
   "metadata": {},
   "source": [
    "Think of it as an **augmented matrix** which combines coefficients of linear system. With row operations, we can solve the system quickly. Let's turn it into a **row reduced echelon form**."
   ]
  },
  {
   "cell_type": "code",
   "execution_count": 14,
   "metadata": {},
   "outputs": [
    {
     "data": {
      "text/latex": [
       "$\\displaystyle \\left( \\left[\\begin{matrix}1 & 0 & 0 & - \\frac{2165}{1679}\\\\0 & 1 & 0 & \\frac{1358}{1679}\\\\0 & 0 & 1 & \\frac{1442}{1679}\\end{matrix}\\right], \\  \\left( 0, \\  1, \\  2\\right)\\right)$"
      ],
      "text/plain": [
       "⎛⎡         -2165 ⎤           ⎞\n",
       "⎜⎢1  0  0  ──────⎥           ⎟\n",
       "⎜⎢          1679 ⎥           ⎟\n",
       "⎜⎢               ⎥           ⎟\n",
       "⎜⎢          1358 ⎥           ⎟\n",
       "⎜⎢0  1  0   ──── ⎥, (0, 1, 2)⎟\n",
       "⎜⎢          1679 ⎥           ⎟\n",
       "⎜⎢               ⎥           ⎟\n",
       "⎜⎢          1442 ⎥           ⎟\n",
       "⎜⎢0  0  1   ──── ⎥           ⎟\n",
       "⎝⎣          1679 ⎦           ⎠"
      ]
     },
     "execution_count": 14,
     "metadata": {},
     "output_type": "execute_result"
    }
   ],
   "source": [
    "M_rref = M.rref(); M_rref # .rref() is the SymPy method for row reduced echelon form"
   ]
  },
  {
   "cell_type": "markdown",
   "metadata": {},
   "source": [
    "Take out the first element in the big parentheses, i.e. the rref matrix."
   ]
  },
  {
   "cell_type": "code",
   "execution_count": 15,
   "metadata": {},
   "outputs": [
    {
     "data": {
      "text/plain": [
       "array([[1, 0, 0, -2165/1679],\n",
       "       [0, 1, 0, 1358/1679],\n",
       "       [0, 0, 1, 1442/1679]], dtype=object)"
      ]
     },
     "execution_count": 15,
     "metadata": {},
     "output_type": "execute_result"
    }
   ],
   "source": [
    "M_rref = np.array(M_rref[0]);M_rref"
   ]
  },
  {
   "cell_type": "markdown",
   "metadata": {},
   "source": [
    "If you don't like fractions, convert it into float type."
   ]
  },
  {
   "cell_type": "code",
   "execution_count": 16,
   "metadata": {
    "scrolled": true
   },
   "outputs": [
    {
     "data": {
      "text/plain": [
       "array([[ 1.   ,  0.   ,  0.   , -1.289],\n",
       "       [ 0.   ,  1.   ,  0.   ,  0.809],\n",
       "       [ 0.   ,  0.   ,  1.   ,  0.859]])"
      ]
     },
     "execution_count": 16,
     "metadata": {},
     "output_type": "execute_result"
    }
   ],
   "source": [
    "M_rref.astype(float)"
   ]
  },
  {
   "cell_type": "markdown",
   "metadata": {},
   "source": [
    "The last column of the rref matrix is the solution of the system."
   ]
  },
  {
   "cell_type": "markdown",
   "metadata": {},
   "source": [
    "## <font face=\"gotham\" color=\"purple\"> Example: rref and Visualisation </font>"
   ]
  },
  {
   "cell_type": "markdown",
   "metadata": {},
   "source": [
    "Let's use ```.rref()``` method to compute a solution of a system then visualise it. Consider the system:"
   ]
  },
  {
   "cell_type": "markdown",
   "metadata": {},
   "source": [
    "\\begin{align}\n",
    "3x+6y+2z&=-13\\\\\n",
    "x+2y+z&=-5\\\\\n",
    "-5x-10y-2z&=19\n",
    "\\end{align}"
   ]
  },
  {
   "cell_type": "markdown",
   "metadata": {},
   "source": [
    "Extract the augmented matrix into a SymPy matrix:"
   ]
  },
  {
   "cell_type": "code",
   "execution_count": 17,
   "metadata": {},
   "outputs": [
    {
     "data": {
      "text/latex": [
       "$\\displaystyle \\left[\\begin{matrix}3 & 6 & 2 & -13\\\\1 & 2 & 1 & -5\\\\-5 & -10 & -2 & 19\\end{matrix}\\right]$"
      ],
      "text/plain": [
       "⎡3    6   2   -13⎤\n",
       "⎢                ⎥\n",
       "⎢1    2   1   -5 ⎥\n",
       "⎢                ⎥\n",
       "⎣-5  -10  -2  19 ⎦"
      ]
     },
     "execution_count": 17,
     "metadata": {},
     "output_type": "execute_result"
    }
   ],
   "source": [
    "A = sy.Matrix([[3, 6, 2, -13], [1, 2, 1, -5], [-5, -10, -2, 19]]);A"
   ]
  },
  {
   "cell_type": "code",
   "execution_count": 18,
   "metadata": {},
   "outputs": [
    {
     "data": {
      "text/latex": [
       "$\\displaystyle \\left( \\left[\\begin{matrix}1 & 2 & 0 & -3\\\\0 & 0 & 1 & -2\\\\0 & 0 & 0 & 0\\end{matrix}\\right], \\  \\left( 0, \\  2\\right)\\right)$"
      ],
      "text/plain": [
       "⎛⎡1  2  0  -3⎤        ⎞\n",
       "⎜⎢           ⎥        ⎟\n",
       "⎜⎢0  0  1  -2⎥, (0, 2)⎟\n",
       "⎜⎢           ⎥        ⎟\n",
       "⎝⎣0  0  0  0 ⎦        ⎠"
      ]
     },
     "execution_count": 18,
     "metadata": {},
     "output_type": "execute_result"
    }
   ],
   "source": [
    "A_rref = A.rref(); A_rref"
   ]
  },
  {
   "cell_type": "markdown",
   "metadata": {},
   "source": [
    "In case you are wondering what's $(0, 2)$: they are the column number of pivot columns, in the augmented matrix above the pivot columns resides on the $0$th and $2$nd column."
   ]
  },
  {
   "cell_type": "markdown",
   "metadata": {},
   "source": [
    "Because it's not a rank matrix, therefore solutions is in general form\n",
    "\\begin{align}\n",
    "x + 2y & = -3\\\\\n",
    "z &= -2\\\\\n",
    "y &= free\n",
    "\\end{align}\n",
    "Let's pick 3 different values of $y$, for instance $(3, 5, 7)$, to calculate $3$ special solutions:"
   ]
  },
  {
   "cell_type": "code",
   "execution_count": 15,
   "metadata": {},
   "outputs": [
    {
     "data": {
      "text/plain": [
       "array([[ -9,   3,  -2],\n",
       "       [-13,   5,  -2],\n",
       "       [-17,   7,  -2]])"
      ]
     },
     "execution_count": 15,
     "metadata": {},
     "output_type": "execute_result"
    }
   ],
   "source": [
    "point1 = (-2*3-3, 3, -2)\n",
    "point2 = (-2*5-3, 5, -2)\n",
    "point3 = (-2*7-3, 7, -2)\n",
    "special_solution = np.array([point1, point2, point3]); special_solution # each row is a special solution"
   ]
  },
  {
   "cell_type": "markdown",
   "metadata": {},
   "source": [
    "We can visualise the general solution, and the 3 specific solutions altogether."
   ]
  },
  {
   "cell_type": "code",
   "execution_count": 16,
   "metadata": {},
   "outputs": [],
   "source": [
    "y = np.linspace(2, 8, 20) # y is the free variable\n",
    "x = -3 - 2*y\n",
    "z = np.full((len(y), ), -2) # z is a constant"
   ]
  },
  {
   "cell_type": "code",
   "execution_count": 17,
   "metadata": {},
   "outputs": [
    {
     "data": {
      "application/vnd.jupyter.widget-view+json": {
       "model_id": "4145126158fe4b3d8111e8b470633547",
       "version_major": 2,
       "version_minor": 0
      },
      "text/plain": [
       "Canvas(toolbar=Toolbar(toolitems=[('Home', 'Reset original view', 'home', 'home'), ('Back', 'Back to previous …"
      ]
     },
     "metadata": {},
     "output_type": "display_data"
    }
   ],
   "source": [
    "fig = plt.figure(figsize = (12,9))\n",
    "ax = fig.add_subplot(111, projection='3d')\n",
    "ax.plot(x, y, z, lw = 3, color = 'red')\n",
    "ax.scatter(special_solution[:,0], special_solution[:,1], special_solution[:,2], s = 200)\n",
    "ax.set_title('General Solution and Special Solution of the Linear Sytem', size= 16)\n",
    "plt.show()"
   ]
  },
  {
   "cell_type": "markdown",
   "metadata": {},
   "source": [
    "## <font face=\"gotham\" color=\"purple\"> Example: A Symbolic Solution </font>"
   ]
  },
  {
   "cell_type": "markdown",
   "metadata": {},
   "source": [
    "Consider a system where all right-hand side values are indeterminate:"
   ]
  },
  {
   "cell_type": "markdown",
   "metadata": {},
   "source": [
    "\\begin{align}\n",
    "x + 2y - 3z &= a\\\\\n",
    "4x - y + 8z &= b\\\\\n",
    "2x - 6y - 4z &= c\n",
    "\\end{align}"
   ]
  },
  {
   "cell_type": "markdown",
   "metadata": {},
   "source": [
    "We define $a, b, c$ as SymPy objects, then extract the augmented matrix"
   ]
  },
  {
   "cell_type": "code",
   "execution_count": 25,
   "metadata": {},
   "outputs": [
    {
     "data": {
      "text/latex": [
       "$\\displaystyle \\left[\\begin{matrix}1 & 2 & -3 & a\\\\4 & -1 & 8 & b\\\\2 & -6 & -4 & c\\end{matrix}\\right]$"
      ],
      "text/plain": [
       "⎡1  2   -3  a⎤\n",
       "⎢            ⎥\n",
       "⎢4  -1  8   b⎥\n",
       "⎢            ⎥\n",
       "⎣2  -6  -4  c⎦"
      ]
     },
     "execution_count": 25,
     "metadata": {},
     "output_type": "execute_result"
    }
   ],
   "source": [
    "a, b, c = sy.symbols('a, b, c', real = True)\n",
    "A = sy.Matrix([[1, 2, -3, a], [4, -1, 8, b], [2, -6, -4, c]]); A"
   ]
  },
  {
   "cell_type": "markdown",
   "metadata": {},
   "source": [
    "We can immediately achieve the symbolic solution by using ```.rref()``` method."
   ]
  },
  {
   "cell_type": "code",
   "execution_count": 26,
   "metadata": {},
   "outputs": [
    {
     "data": {
      "text/latex": [
       "$\\displaystyle \\left( \\left[\\begin{matrix}1 & 0 & 0 & \\frac{2 a}{7} + \\frac{b}{7} + \\frac{c}{14}\\\\0 & 1 & 0 & \\frac{16 a}{91} + \\frac{b}{91} - \\frac{10 c}{91}\\\\0 & 0 & 1 & - \\frac{11 a}{91} + \\frac{5 b}{91} - \\frac{9 c}{182}\\end{matrix}\\right], \\  \\left( 0, \\  1, \\  2\\right)\\right)$"
      ],
      "text/plain": [
       "⎛⎡            2⋅a   b   c    ⎤           ⎞\n",
       "⎜⎢1  0  0     ─── + ─ + ──   ⎥           ⎟\n",
       "⎜⎢             7    7   14   ⎥           ⎟\n",
       "⎜⎢                           ⎥           ⎟\n",
       "⎜⎢          16⋅a   b    10⋅c ⎥           ⎟\n",
       "⎜⎢0  1  0   ──── + ── - ──── ⎥, (0, 1, 2)⎟\n",
       "⎜⎢           91    91    91  ⎥           ⎟\n",
       "⎜⎢                           ⎥           ⎟\n",
       "⎜⎢           11⋅a   5⋅b   9⋅c⎥           ⎟\n",
       "⎜⎢0  0  1  - ──── + ─── - ───⎥           ⎟\n",
       "⎝⎣            91     91   182⎦           ⎠"
      ]
     },
     "execution_count": 26,
     "metadata": {},
     "output_type": "execute_result"
    }
   ],
   "source": [
    "A_rref = A.rref(); A_rref"
   ]
  },
  {
   "cell_type": "markdown",
   "metadata": {},
   "source": [
    "Of course, we can substitute values of $a$, $b$ and $c$ to get a specific solution. "
   ]
  },
  {
   "cell_type": "code",
   "execution_count": 27,
   "metadata": {},
   "outputs": [
    {
     "data": {
      "text/latex": [
       "$\\displaystyle \\left[\\begin{matrix}1 & 0 & 0 & \\frac{31}{14}\\\\0 & 1 & 0 & - \\frac{16}{91}\\\\0 & 0 & 1 & - \\frac{69}{182}\\end{matrix}\\right]$"
      ],
      "text/plain": [
       "⎡          31 ⎤\n",
       "⎢1  0  0   ── ⎥\n",
       "⎢          14 ⎥\n",
       "⎢             ⎥\n",
       "⎢         -16 ⎥\n",
       "⎢0  1  0  ────⎥\n",
       "⎢          91 ⎥\n",
       "⎢             ⎥\n",
       "⎢         -69 ⎥\n",
       "⎢0  0  1  ────⎥\n",
       "⎣         182 ⎦"
      ]
     },
     "execution_count": 27,
     "metadata": {},
     "output_type": "execute_result"
    }
   ],
   "source": [
    "vDict = {a: 3, b: 6, c: 7}\n",
    "A_rref = A_rref[0].subs(vDict);A_rref # define a dictionary for special values to substitute in"
   ]
  },
  {
   "cell_type": "markdown",
   "metadata": {},
   "source": [
    "## <font face=\"gotham\" color=\"purple\"> Example: Polynomials </font>"
   ]
  },
  {
   "cell_type": "markdown",
   "metadata": {},
   "source": [
    "Consider this question : How to find a cubic polynomial that passes through each of these points $(1,3)$,$(2, -2)$ ,$(3, -5)$, and $(4, 0)$.\n",
    "\n",
    "The form of cubic polynomial is \n",
    "\n",
    "\\begin{align}\n",
    "y=a_0+a_1x+a_2x^2+a_3x^3\n",
    "\\end{align}\n",
    "We substitute all the points:\n",
    "\n",
    "\\begin{align}\n",
    "(x,y)&=(1,3)\\qquad\\longrightarrow\\qquad \\ 2=a_0+3a_1+9a_2 +27a_3 \\\\\n",
    "(x,y)&=(2,-2)\\qquad\\longrightarrow\\qquad 3=a_0+a_1+a_2+a_3\\\\\n",
    "(x,y)&=(3,-5)\\qquad\\longrightarrow\\qquad 2=a_0-4a_1+16a_2-64a_3\\\\\n",
    "(x,y)&=(4,0)\\qquad\\longrightarrow\\qquad -2=a_0+2a_1+4a_2+8a_3\n",
    "\\end{align}"
   ]
  },
  {
   "cell_type": "markdown",
   "metadata": {},
   "source": [
    "It turns to be a linear system, the rest should be familiar already."
   ]
  },
  {
   "cell_type": "markdown",
   "metadata": {},
   "source": [
    "The augmented matrix is "
   ]
  },
  {
   "cell_type": "code",
   "execution_count": 28,
   "metadata": {},
   "outputs": [
    {
     "data": {
      "text/latex": [
       "$\\displaystyle \\left[\\begin{matrix}1 & 1 & 1 & 1 & 3\\\\1 & 2 & 4 & 8 & -2\\\\1 & 3 & 9 & 27 & -5\\\\1 & 4 & 16 & 64 & 0\\end{matrix}\\right]$"
      ],
      "text/plain": [
       "⎡1  1  1   1   3 ⎤\n",
       "⎢                ⎥\n",
       "⎢1  2  4   8   -2⎥\n",
       "⎢                ⎥\n",
       "⎢1  3  9   27  -5⎥\n",
       "⎢                ⎥\n",
       "⎣1  4  16  64  0 ⎦"
      ]
     },
     "execution_count": 28,
     "metadata": {},
     "output_type": "execute_result"
    }
   ],
   "source": [
    "A = sy.Matrix([[1, 1, 1, 1, 3], [1, 2, 4, 8, -2], [1, 3, 9, 27, -5], [1, 4, 16, 64, 0]]); A"
   ]
  },
  {
   "cell_type": "code",
   "execution_count": 29,
   "metadata": {},
   "outputs": [
    {
     "data": {
      "text/latex": [
       "$\\displaystyle \\left( \\left[\\begin{matrix}1 & 0 & 0 & 0 & 4\\\\0 & 1 & 0 & 0 & 3\\\\0 & 0 & 1 & 0 & -5\\\\0 & 0 & 0 & 1 & 1\\end{matrix}\\right], \\  \\left( 0, \\  1, \\  2, \\  3\\right)\\right)$"
      ],
      "text/plain": [
       "⎛⎡1  0  0  0  4 ⎤              ⎞\n",
       "⎜⎢              ⎥              ⎟\n",
       "⎜⎢0  1  0  0  3 ⎥              ⎟\n",
       "⎜⎢              ⎥, (0, 1, 2, 3)⎟\n",
       "⎜⎢0  0  1  0  -5⎥              ⎟\n",
       "⎜⎢              ⎥              ⎟\n",
       "⎝⎣0  0  0  1  1 ⎦              ⎠"
      ]
     },
     "execution_count": 29,
     "metadata": {},
     "output_type": "execute_result"
    }
   ],
   "source": [
    "A_rref = A.rref(); A_rref"
   ]
  },
  {
   "cell_type": "code",
   "execution_count": 30,
   "metadata": {},
   "outputs": [
    {
     "data": {
      "text/plain": [
       "array([[1, 0, 0, 0, 4],\n",
       "       [0, 1, 0, 0, 3],\n",
       "       [0, 0, 1, 0, -5],\n",
       "       [0, 0, 0, 1, 1]], dtype=object)"
      ]
     },
     "execution_count": 30,
     "metadata": {},
     "output_type": "execute_result"
    }
   ],
   "source": [
    "A_rref = np.array(A_rref[0]); A_rref"
   ]
  },
  {
   "cell_type": "markdown",
   "metadata": {},
   "source": [
    "The last column is the solution, i.e. the coefficients of the cubic polynomial."
   ]
  },
  {
   "cell_type": "code",
   "execution_count": 31,
   "metadata": {},
   "outputs": [
    {
     "data": {
      "text/plain": [
       "array([ 4.,  3., -5.,  1.])"
      ]
     },
     "execution_count": 31,
     "metadata": {},
     "output_type": "execute_result"
    }
   ],
   "source": [
    "poly_coef = A_rref.astype(float)[:,-1]; poly_coef"
   ]
  },
  {
   "cell_type": "markdown",
   "metadata": {},
   "source": [
    "Cubic polynomial form is:\n",
    "\\begin{align}\n",
    "y = 4 + 3x - 5x^2 + x^3\n",
    "\\end{align}"
   ]
  },
  {
   "cell_type": "markdown",
   "metadata": {},
   "source": [
    "Since we have the specific form of the cubic polynomial, we can plot it"
   ]
  },
  {
   "cell_type": "code",
   "execution_count": 32,
   "metadata": {},
   "outputs": [],
   "source": [
    "x = np.linspace(-5, 5, 40)\n",
    "y = poly_coef[0] + poly_coef[1]*x + poly_coef[2]*x**2 + poly_coef[3]*x**3"
   ]
  },
  {
   "cell_type": "code",
   "execution_count": 33,
   "metadata": {},
   "outputs": [
    {
     "data": {
      "image/png": "[encoded data removed]",
      "text/plain": [
       "<Figure size 576x576 with 1 Axes>"
      ]
     },
     "metadata": {
      "needs_background": "light"
     },
     "output_type": "display_data"
    }
   ],
   "source": [
    "fig, ax = plt.subplots(figsize = (8, 8))\n",
    "ax.plot(x, y, lw = 3, color ='red')\n",
    "ax.scatter([1, 2, 3, 4], [3, -2, -5, 0], s = 100, color = 'blue', zorder = 3)\n",
    "ax.grid()\n",
    "ax.set_xlim([0, 5])\n",
    "ax.set_ylim([-10, 10])\n",
    "\n",
    "ax.text(1, 3.5, '$(1, 3)$', fontsize = 15)\n",
    "ax.text(1.5, -2.5, '$(2, -2)$', fontsize = 15)\n",
    "ax.text(2.7, -4, '$(3, -5.5)$', fontsize = 15)\n",
    "ax.text(4.1, 0, '$(4, .5)$', fontsize = 15)\n",
    "plt.show()"
   ]
  },
  {
   "cell_type": "markdown",
   "metadata": {},
   "source": [
    "Now you know the trick, try another 5 points: $(1,2)$, $(2,5)$, $(3,8)$, $(4,6)$, $(5, 9)$. And polynomial form is \n",
    "\\begin{align}\n",
    "y=a_0+a_1x+a_2x^2+a_3x^3+a_4x^4\n",
    "\\end{align}\n",
    "\n",
    "The augmented matrix is"
   ]
  },
  {
   "cell_type": "code",
   "execution_count": 34,
   "metadata": {},
   "outputs": [
    {
     "data": {
      "text/latex": [
       "$\\displaystyle \\left[\\begin{matrix}1 & 1 & 1 & 1 & 1 & 2\\\\1 & 2 & 4 & 8 & 16 & 5\\\\1 & 3 & 9 & 27 & 81 & 8\\\\1 & 4 & 16 & 64 & 256 & 6\\\\1 & 5 & 25 & 125 & 625 & 9\\end{matrix}\\right]$"
      ],
      "text/plain": [
       "⎡1  1  1    1    1   2⎤\n",
       "⎢                     ⎥\n",
       "⎢1  2  4    8   16   5⎥\n",
       "⎢                     ⎥\n",
       "⎢1  3  9   27   81   8⎥\n",
       "⎢                     ⎥\n",
       "⎢1  4  16  64   256  6⎥\n",
       "⎢                     ⎥\n",
       "⎣1  5  25  125  625  9⎦"
      ]
     },
     "execution_count": 34,
     "metadata": {},
     "output_type": "execute_result"
    }
   ],
   "source": [
    "A = sy.Matrix([[1, 1, 1, 1, 1, 2],\n",
    "               [1, 2, 4, 8, 16, 5], \n",
    "               [1, 3, 9, 27, 81, 8], \n",
    "               [1, 4, 16, 64, 256, 6], \n",
    "               [1, 5, 25,125, 625, 9]]); A"
   ]
  },
  {
   "cell_type": "code",
   "execution_count": 35,
   "metadata": {},
   "outputs": [
    {
     "data": {
      "text/plain": [
       "array([ 19.   , -37.417,  26.875,  -7.083,   0.625])"
      ]
     },
     "execution_count": 35,
     "metadata": {},
     "output_type": "execute_result"
    }
   ],
   "source": [
    "A_rref = A.rref()\n",
    "A_rref = np.array(A_rref[0])\n",
    "coef = A_rref.astype(float)[:,-1];coef"
   ]
  },
  {
   "cell_type": "code",
   "execution_count": 36,
   "metadata": {},
   "outputs": [],
   "source": [
    "x = np.linspace(0, 6, 100)\n",
    "y = coef[0] + coef[1]*x + coef[2]*x**2 + coef[3]*x**3 + coef[4]*x**4"
   ]
  },
  {
   "cell_type": "code",
   "execution_count": 37,
   "metadata": {},
   "outputs": [
    {
     "data": {
      "image/png": "[encoded data removed]",
      "text/plain": [
       "<Figure size 576x576 with 1 Axes>"
      ]
     },
     "metadata": {
      "needs_background": "light"
     },
     "output_type": "display_data"
    }
   ],
   "source": [
    "fig, ax = plt.subplots(figsize= (8, 8))\n",
    "ax.plot(x, y, lw =3)\n",
    "ax.scatter([1, 2, 3, 4, 5], [2, 5, 8, 6, 9], s= 100, color = 'red', zorder = 3)\n",
    "ax.grid()"
   ]
  },
  {
   "cell_type": "markdown",
   "metadata": {},
   "source": [
    "# <font face=\"gotham\" color=\"purple\"> Solving The System of Linear Equations By NumPy </font>"
   ]
  },
  {
   "cell_type": "markdown",
   "metadata": {},
   "source": [
    "Set up the system $A  x =  b$, generate a random $A$ and $b$"
   ]
  },
  {
   "cell_type": "code",
   "execution_count": 38,
   "metadata": {
    "scrolled": true
   },
   "outputs": [],
   "source": [
    "A = np.round(10 * np.random.rand(5, 5))\n",
    "b = np.round(10 * np.random.rand(5,))"
   ]
  },
  {
   "cell_type": "code",
   "execution_count": 39,
   "metadata": {},
   "outputs": [
    {
     "data": {
      "text/plain": [
       "array([-2.283,  1.431,  0.677, -0.718,  1.908])"
      ]
     },
     "execution_count": 39,
     "metadata": {},
     "output_type": "execute_result"
    }
   ],
   "source": [
    "x = np.linalg.solve(A, b);x"
   ]
  },
  {
   "cell_type": "markdown",
   "metadata": {},
   "source": [
    "Let's verify if $ Ax = b$"
   ]
  },
  {
   "cell_type": "code",
   "execution_count": 40,
   "metadata": {},
   "outputs": [
    {
     "data": {
      "text/plain": [
       "array([-0.,  0.,  0.,  0., -0.])"
      ]
     },
     "execution_count": 40,
     "metadata": {},
     "output_type": "execute_result"
    }
   ],
   "source": [
    "A@x - b"
   ]
  },
  {
   "cell_type": "markdown",
   "metadata": {},
   "source": [
    "They are technically zeros, due to some round-off errors omitted, that's why there is $-$ in front $0$."
   ]
  }
 ],
 "metadata": {
  "kernelspec": {
   "display_name": "Python 3",
   "language": "python",
   "name": "python3"
  },
  "language_info": {
   "codemirror_mode": {
    "name": "ipython",
    "version": 3
   },
   "file_extension": ".py",
   "mimetype": "text/x-python",
   "name": "python",
   "nbconvert_exporter": "python",
   "pygments_lexer": "ipython3",
   "version": "3.8.8"
  },
  "toc": {
   "base_numbering": 1,
   "nav_menu": {},
   "number_sections": true,
   "sideBar": true,
   "skip_h1_title": false,
   "title_cell": "Table of Contents",
   "title_sidebar": "Contents",
   "toc_cell": false,
   "toc_position": {},
   "toc_section_display": true,
   "toc_window_display": false
  }
 },
 "nbformat": 4,
 "nbformat_minor": 4
}
