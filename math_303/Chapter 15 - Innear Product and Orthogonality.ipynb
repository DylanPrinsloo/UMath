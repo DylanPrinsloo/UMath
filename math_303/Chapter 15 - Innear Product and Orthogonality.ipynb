{
 "cells": [
  {
   "cell_type": "code",
   "execution_count": 7,
   "metadata": {},
   "outputs": [],
   "source": [
    "import matplotlib.pyplot as plt\n",
    "import matplotlib as mpl\n",
    "import numpy as np\n",
    "from mpl_toolkits.mplot3d import Axes3D\n",
    "import scipy as sp\n",
    "import scipy.linalg\n",
    "import scipy.spatial\n",
    "import sympy as sy\n",
    "sy.init_printing() "
   ]
  },
  {
   "cell_type": "markdown",
   "metadata": {},
   "source": [
    "# <font face=\"gotham\" color=\"purple\"> The Dot Product</font>"
   ]
  },
  {
   "cell_type": "markdown",
   "metadata": {},
   "source": [
    "Consider two vectors\n",
    "\n",
    "$$\n",
    "\\mathbf{u}=\\left[\\begin{array}{l}\n",
    "u_{1} \\\\\n",
    "u_{2} \\\\\n",
    "\\vdots \\\\\n",
    "u_{n}\n",
    "\\end{array}\\right] \\quad \\text { and } \\bf{v}=\\left[\\begin{array}{l}\n",
    "v_{1} \\\\\n",
    "v_{2} \\\\\n",
    "\\vdots \\\\\n",
    "v_{n}\n",
    "\\end{array}\\right]\n",
    "$$"
   ]
  },
  {
   "cell_type": "markdown",
   "metadata": {},
   "source": [
    "The dot product of $\\mathbf{u}$ and $\\mathbf{v}$,i.e. $\\mathbf{u}\\cdot\\mathbf{v}$ is defined as\n",
    "\n",
    "$$\n",
    "\\left[\\begin{array}{llll}\n",
    "u_{1} & u_{2} & \\cdots & u_{n}\n",
    "\\end{array}\\right]\\left[\\begin{array}{c}\n",
    "v_{1} \\\\\n",
    "v_{2} \\\\\n",
    "\\vdots \\\\\n",
    "v_{n}\n",
    "\\end{array}\\right]=u_{1} v_{1}+u_{2} v_{2}+\\cdots+u_{n} v_{n}\n",
    "$$"
   ]
  },
  {
   "cell_type": "markdown",
   "metadata": {},
   "source": [
    "We can generate two random vectors, then let's compare operations in NumPy."
   ]
  },
  {
   "cell_type": "code",
   "execution_count": 4,
   "metadata": {},
   "outputs": [],
   "source": [
    "u = np.round(100*np.random.randn(10))\n",
    "v = np.round(100*np.random.randn(10))"
   ]
  },
  {
   "cell_type": "code",
   "execution_count": 5,
   "metadata": {},
   "outputs": [
    {
     "data": {
      "text/plain": [
       "array([ -846., -1700., -6486., -1886., -1100.,  6776., -6210.,  1586.,\n",
       "        -245.,  2394.])"
      ]
     },
     "execution_count": 5,
     "metadata": {},
     "output_type": "execute_result"
    }
   ],
   "source": [
    "u*v # this is element-wise multiplication"
   ]
  },
  {
   "cell_type": "code",
   "execution_count": 6,
   "metadata": {},
   "outputs": [
    {
     "data": {
      "image/png": "[encoded data removed]",
      "text/latex": [
       "$\\displaystyle -7717.0$"
      ],
      "text/plain": [
       "-7717.0"
      ]
     },
     "execution_count": 6,
     "metadata": {},
     "output_type": "execute_result"
    }
   ],
   "source": [
    "u@v # matrix multiplication"
   ]
  },
  {
   "cell_type": "code",
   "execution_count": 7,
   "metadata": {},
   "outputs": [
    {
     "data": {
      "image/png": "[encoded data removed]",
      "text/latex": [
       "$\\displaystyle -7717.0$"
      ],
      "text/plain": [
       "-7717.0"
      ]
     },
     "execution_count": 7,
     "metadata": {},
     "output_type": "execute_result"
    }
   ],
   "source": [
    "np.inner(u,v) # inner product here is the same as matrix multiplication"
   ]
  },
  {
   "cell_type": "markdown",
   "metadata": {},
   "source": [
    "SymPy operation is the same like in linear algebra."
   ]
  },
  {
   "cell_type": "code",
   "execution_count": 6,
   "metadata": {},
   "outputs": [],
   "source": [
    "u = sy.randMatrix(1, 10)\n",
    "v = sy.randMatrix(1, 10)"
   ]
  },
  {
   "cell_type": "code",
   "execution_count": 7,
   "metadata": {},
   "outputs": [
    {
     "data": {
      "image/png": "[encoded data removed]",
      "text/latex": [
       "$\\displaystyle \\left[\\begin{matrix}15991\\end{matrix}\\right]$"
      ],
      "text/plain": [
       "[15991]"
      ]
     },
     "execution_count": 7,
     "metadata": {},
     "output_type": "execute_result"
    }
   ],
   "source": [
    "u*v.T"
   ]
  },
  {
   "cell_type": "markdown",
   "metadata": {},
   "source": [
    "# <font face=\"gotham\" color=\"purple\"> The Norm of a Vector</font>"
   ]
  },
  {
   "cell_type": "markdown",
   "metadata": {},
   "source": [
    "The <font face=\"gotham\" color=\"red\">norm</font> is the length of a vector, definted by\n",
    "\n",
    "$$\n",
    "\\|\\mathbf{v}\\|=\\sqrt{\\mathbf{v} \\cdot \\mathbf{v}}=\\sqrt{v_{1}^{2}+v_{2}^{2}+\\cdots+v_{n}^{2}}, \\quad \\text { and } \\quad\\|\\mathbf{v}\\|^{2}=\\mathbf{v} \\cdot \\mathbf{v}\n",
    "$$"
   ]
  },
  {
   "cell_type": "markdown",
   "metadata": {},
   "source": [
    "A NumPy built-in ```np.linalg.norm()``` is for computing norms.The default setting is to compute the length of vectors from origins."
   ]
  },
  {
   "cell_type": "code",
   "execution_count": 8,
   "metadata": {},
   "outputs": [
    {
     "data": {
      "image/png": "[encoded data removed]",
      "text/latex": [
       "$\\displaystyle 6.324555320336759$"
      ],
      "text/plain": [
       "6.324555320336759"
      ]
     },
     "execution_count": 8,
     "metadata": {},
     "output_type": "execute_result"
    }
   ],
   "source": [
    "a = [2, 6]\n",
    "np.linalg.norm(a)"
   ]
  },
  {
   "cell_type": "markdown",
   "metadata": {},
   "source": [
    "Verify the results."
   ]
  },
  {
   "cell_type": "code",
   "execution_count": 9,
   "metadata": {},
   "outputs": [
    {
     "data": {
      "image/png": "[encoded data removed]",
      "text/latex": [
       "$\\displaystyle 6.324555320336759$"
      ],
      "text/plain": [
       "6.324555320336759"
      ]
     },
     "execution_count": 9,
     "metadata": {},
     "output_type": "execute_result"
    }
   ],
   "source": [
    "np.sqrt(2**2 + 6**2)"
   ]
  },
  {
   "cell_type": "markdown",
   "metadata": {},
   "source": [
    "We can also compute a group of vectors' length, for instance $(2, 6)^T$, $(8, 2)^T$, $(9, 1)^T$"
   ]
  },
  {
   "cell_type": "code",
   "execution_count": 10,
   "metadata": {},
   "outputs": [
    {
     "data": {
      "text/plain": [
       "array([6.32455532, 8.24621125, 9.05538514])"
      ]
     },
     "execution_count": 10,
     "metadata": {},
     "output_type": "execute_result"
    }
   ],
   "source": [
    "A = np.array([[2, 8, 9], \n",
    "              [6, 2, 1]])\n",
    "np.linalg.norm(A, axis = 0)"
   ]
  },
  {
   "cell_type": "markdown",
   "metadata": {},
   "source": [
    "# <font face=\"gotham\" color=\"purple\"> Distance in $\\mathbb{R}^n$</font>"
   ]
  },
  {
   "cell_type": "markdown",
   "metadata": {},
   "source": [
    "For $\\mathbf{u}$ and $\\mathbf{v}$ in $\\mathbb{R}^{n}$, the distance between $\\mathbf{u}$ and $\\mathbf{v},$ written as dist $(\\mathbf{u}, \\mathbf{v}),$ is the length of the vector $\\mathbf{u}-\\mathbf{v} .$ That is,\n",
    "\n",
    "$$\n",
    "\\operatorname{dist}(\\mathbf{u}, \\mathbf{v})=\\|\\mathbf{u}-\\mathbf{v}\\|\n",
    "$$"
   ]
  },
  {
   "cell_type": "markdown",
   "metadata": {},
   "source": [
    "Suppose we have two vectors $\\mathbf{u} = (2, 9)$ and $\\mathbf{v} = (-3, 4)$, compute the distance and visualize the results."
   ]
  },
  {
   "cell_type": "code",
   "execution_count": 11,
   "metadata": {},
   "outputs": [
    {
     "data": {
      "image/png": "[encoded data removed]",
      "text/latex": [
       "$\\displaystyle 7.0710678118654755$"
      ],
      "text/plain": [
       "7.0710678118654755"
      ]
     },
     "execution_count": 11,
     "metadata": {},
     "output_type": "execute_result"
    }
   ],
   "source": [
    "u = np.array([2, 9])\n",
    "v = np.array([-3, 4])\n",
    "np.linalg.norm(u - v)"
   ]
  },
  {
   "cell_type": "code",
   "execution_count": 12,
   "metadata": {},
   "outputs": [
    {
     "data": {
      "image/png": "[encoded data removed]",
      "text/plain": [
       "<Figure size 864x864 with 1 Axes>"
      ]
     },
     "metadata": {
      "needs_background": "light"
     },
     "output_type": "display_data"
    }
   ],
   "source": [
    "fig, ax = plt.subplots(figsize = (12, 12))\n",
    "\n",
    "vects = np.array([[2, 9], [-3, 4], [3, -4], [5, 5]])\n",
    "col = ['red', 'blue', 'blue', 'green']\n",
    "cordt = ['$(2, 9)$', '$(-3, 4)$', '$(3, -4)$', '$(5, 5)$']\n",
    "\n",
    "for i in range(4):\n",
    "    ax.arrow(0, 0, vects[i, 0], vects[i, 1], color = col[i], width = .08, \n",
    "             length_includes_head = True,\n",
    "             head_width = .3, # default: 3*width\n",
    "             head_length = .6,\n",
    "             overhang = .4)\n",
    "    ax.text(x = vects[i][0], y = vects[i][1], s = cordt[i], size = 15)\n",
    "ax.grid()\n",
    "\n",
    "points = np.array([[2, 9], [5, 5], [3, -4], [-3, 4]])\n",
    "\n",
    "ax.arrow(points[3][0], points[3][1], points[1][0], points[1][1], color = 'green', width = .08, \n",
    "         length_includes_head = True,\n",
    "         head_width = .3, # default: 3*width\n",
    "         head_length = .6,\n",
    "         overhang = .4)\n",
    "\n",
    "line1 = np.array([points[0], points[1]])\n",
    "ax.plot(line1[:,0], line1[:,1], c = 'b', lw = 3.5,alpha =0.5, ls = '--')\n",
    "\n",
    "line2 = np.array([points[2], points[1]])\n",
    "ax.plot(line2[:,0], line2[:,1], c = 'b', lw = 3.5,alpha =0.5, ls = '--')\n",
    "\n",
    "ax.text(-2, 6, '$\\|\\|\\mathbf{u}-\\mathbf{v}\\|\\|$', size = 16)\n",
    "\n",
    "###################### Axis, Spines, Ticks ##########################\n",
    "ax.axis([-10, 10.1, -10.1, 10.1])\n",
    "ax.spines['left'].set_position('center')\n",
    "ax.spines['right'].set_color('none')\n",
    "ax.spines['bottom'].set_position('center')\n",
    "ax.spines['top'].set_color('none')\n",
    "ax.xaxis.set_ticks_position('bottom')\n",
    "ax.yaxis.set_ticks_position('left')\n",
    "\n",
    "ax.minorticks_on()\n",
    "ax.tick_params(axis = 'both', direction = 'inout', length=12, width=2, which='major')\n",
    "ax.tick_params(axis = 'both', direction = 'inout', length=10, width=1, which='minor')"
   ]
  },
  {
   "cell_type": "markdown",
   "metadata": {},
   "source": [
    "From the graph, we know that the $\\|\\mathbf{u}-\\mathbf{v}\\|$ is $\\sqrt{5^2 + 5^2}$."
   ]
  },
  {
   "cell_type": "code",
   "execution_count": 13,
   "metadata": {},
   "outputs": [
    {
     "data": {
      "image/png": "[encoded data removed]",
      "text/latex": [
       "$\\displaystyle 7.0710678118654755$"
      ],
      "text/plain": [
       "7.0710678118654755"
      ]
     },
     "execution_count": 13,
     "metadata": {},
     "output_type": "execute_result"
    }
   ],
   "source": [
    "np.sqrt(5**2 + 5**2)"
   ]
  },
  {
   "cell_type": "markdown",
   "metadata": {},
   "source": [
    "The same results as the ```np.linalg.norm(u - v)```."
   ]
  },
  {
   "cell_type": "markdown",
   "metadata": {},
   "source": [
    "# <font face=\"gotham\" color=\"purple\"> Orthogonal Vectors</font>"
   ]
  },
  {
   "cell_type": "markdown",
   "metadata": {},
   "source": [
    "We have two vectors $\\mathbf{u}$ and $\\mathbf{v}$, and square the distance of $\\|\\mathbf{u}+\\mathbf{v}\\|$ and $\\|\\mathbf{u}-\\mathbf{v}\\|$ \n",
    "\n",
    "$$\\begin{aligned}\n",
    "\\big[\\operatorname{dist}(\\mathbf{u},-\\mathbf{v})\\big]^{2} &=\\|\\mathbf{u}-(-\\mathbf{v})\\|^{2}=\\|\\mathbf{u}+\\mathbf{v}\\|^{2} \\\\\n",
    "&=(\\mathbf{u}+\\mathbf{v}) \\cdot(\\mathbf{u}+\\mathbf{v}) \\\\\n",
    "&=\\mathbf{u} \\cdot(\\mathbf{u}+\\mathbf{v})+\\mathbf{v} \\cdot(\\mathbf{u}+\\mathbf{v}) \\\\\n",
    "&=\\mathbf{u} \\cdot \\mathbf{u}+\\mathbf{u} \\cdot \\mathbf{v}+\\mathbf{v} \\cdot \\mathbf{u}+\\mathbf{v} \\cdot \\mathbf{v} \\\\\n",
    "&=\\|\\mathbf{u}\\|^{2}+\\|\\mathbf{v}\\|^{2}+2 \\mathbf{u} \\cdot \\mathbf{v}\n",
    "\\end{aligned}$$"
   ]
  },
  {
   "cell_type": "markdown",
   "metadata": {},
   "source": [
    "$$\\begin{aligned}\n",
    "\\big[\\operatorname{dist}(\\mathbf{u}, \\mathbf{v})\\big]^{2} &=\\|\\mathbf{u}\\|^{2}+\\|-\\mathbf{v}\\|^{2}+2 \\mathbf{u} \\cdot(-\\mathbf{v}) \\\\\n",
    "&=\\|\\mathbf{u}\\|^{2}+\\|\\mathbf{v}\\|^{2}-2 \\mathbf{u} \\cdot \\mathbf{v}\n",
    "\\end{aligned}$$"
   ]
  },
  {
   "cell_type": "markdown",
   "metadata": {},
   "source": [
    "Suppose $\\mathbf{u} = (1, 4)$ and $\\mathbf{v} = (-2, 2)$, visualize the vector and distances."
   ]
  },
  {
   "cell_type": "code",
   "execution_count": 14,
   "metadata": {},
   "outputs": [
    {
     "data": {
      "image/png": "[encoded data removed]",
      "text/plain": [
       "<Figure size 864x864 with 1 Axes>"
      ]
     },
     "metadata": {
      "needs_background": "light"
     },
     "output_type": "display_data"
    }
   ],
   "source": [
    "fig, ax = plt.subplots(figsize = (12, 12))\n",
    "\n",
    "vects = np.array([[1, 4], [-2, 2], [2, -2]])\n",
    "colr = ['red', 'blue', 'blue'] \n",
    "cordt = ['$(1, 4)$', '$(-2, 2)$', '$(2, -2)$']\n",
    "vec_name = ['$\\mathbf{u}$', '$\\mathbf{v}$','$\\mathbf{-v}$']\n",
    "\n",
    "for i in range(3):\n",
    "    ax.arrow(0, 0, vects[i][0], vects[i][1], color = colr[i], width = .08, \n",
    "             length_includes_head = True,\n",
    "             head_width = .3, # default: 3*width\n",
    "             head_length = .6,\n",
    "             overhang = .4)\n",
    "    ax.text(x = vects[i][0], y = vects[i][1], s = cordt[i], size = 15)\n",
    "    ax.text(x = vects[i][0]/2, y = vects[i][1]/2, s = vec_name[i], size = 22)\n",
    "\n",
    "ax.text(x = -1, y = 3, s = '$\\|\\|\\mathbf{u}-\\mathbf{v}\\|\\|$', size = 15)    \n",
    "ax.text(x = 1.5, y = 1, s = '$\\|\\|\\mathbf{u}+\\mathbf{v}\\|\\|$', size = 15)    \n",
    "\n",
    "\n",
    "\n",
    "############################### Dashed Line #######################\n",
    "line1 = np.array([vects[0], vects[1]])\n",
    "ax.plot(line1[:,0], line1[:,1], c = 'b', lw = 3.5,alpha =0.5, ls = '--')\n",
    "\n",
    "line2 = np.array([vects[0], vects[2]])\n",
    "ax.plot(line2[:,0], line2[:,1], c = 'b', lw = 3.5,alpha =0.5, ls = '--')\n",
    "\n",
    "###################### Axis, Spines, Ticks ##########################\n",
    "ax.spines['left'].set_position('center')\n",
    "ax.spines['right'].set_color('none')\n",
    "ax.spines['bottom'].set_position('center')\n",
    "ax.spines['top'].set_color('none')\n",
    "ax.xaxis.set_ticks_position('bottom')\n",
    "ax.yaxis.set_ticks_position('left')\n",
    "\n",
    "ax.minorticks_on()\n",
    "ax.tick_params(axis = 'both', direction = 'inout', length=12, width=2, which='major')\n",
    "ax.tick_params(axis = 'both', direction = 'inout', length=10, width=1, which='minor')\n",
    "\n",
    "ax.axis([-5, 5, -5, 5])\n",
    "ax.grid()"
   ]
  },
  {
   "cell_type": "markdown",
   "metadata": {},
   "source": [
    "Note that if $\\big[\\operatorname{dist}(\\mathbf{u},-\\mathbf{v})\\big]^{2} = \\big[\\operatorname{dist}(\\mathbf{u}, \\mathbf{v})\\big]^{2}$, $\\mathbf{u}$ and $\\mathbf{v}$ are orthogonal.According to equations above, it must be \n",
    "\n",
    "$$\\mathbf{u} \\cdot \\mathbf{v} = 0$$\n",
    "\n",
    "This is one of the most important conclusion in linear algebra."
   ]
  },
  {
   "cell_type": "markdown",
   "metadata": {},
   "source": [
    "Suppose there is another vector $w = (2.5, 2.5)$, let's plot over the graph again."
   ]
  },
  {
   "cell_type": "code",
   "execution_count": 15,
   "metadata": {},
   "outputs": [
    {
     "data": {
      "image/png": "[encoded data removed]",
      "text/plain": [
       "<Figure size 864x864 with 1 Axes>"
      ]
     },
     "metadata": {
      "needs_background": "light"
     },
     "output_type": "display_data"
    }
   ],
   "source": [
    "fig, ax = plt.subplots(figsize = (12, 12))\n",
    "\n",
    "vects = np.array([[1, 4], [-2, 2], [2, -2], [2.5, 2.5]])\n",
    "colr = ['red', 'blue', 'blue', 'green'] \n",
    "cordt = ['$(1, 4)$', '$(-2, 2)$', '$(2, -2)$', '$(2.5, 2.5)$']\n",
    "vec_name = ['$\\mathbf{u}$', '$\\mathbf{v}$','$\\mathbf{-v}$', '$\\mathbf{w}$']\n",
    "\n",
    "for i in range(4):\n",
    "    ax.arrow(0, 0, vects[i][0], vects[i][1], color = colr[i], width = .08, \n",
    "             length_includes_head = True,\n",
    "             head_width = .3, # default: 3*width\n",
    "             head_length = .6,\n",
    "             overhang = .4)\n",
    "    ax.text(x = vects[i][0], y = vects[i][1], s = cordt[i], size = 15)\n",
    "    ax.text(x = vects[i][0]/2, y = vects[i][1]/2, s = vec_name[i], size = 22)\n",
    "\n",
    "ax.text(x = -1, y = 3, s = '$\\|\\|\\mathbf{u}-\\mathbf{v}\\|\\|$', size = 15)    \n",
    "ax.text(x = 1.5, y = 1, s = '$\\|\\|\\mathbf{u}+\\mathbf{v}\\|\\|$', size = 15)    \n",
    "\n",
    "############################### Dashed Line #######################\n",
    "\n",
    "line1 = np.array([vects[0], vects[1]])\n",
    "ax.plot(line1[:,0], line1[:,1], c = 'b', lw = 3.5,alpha =0.5, ls = '--')\n",
    "\n",
    "line2 = np.array([vects[0], vects[2]])\n",
    "ax.plot(line2[:,0], line2[:,1], c = 'b', lw = 3.5,alpha =0.5, ls = '--')\n",
    "\n",
    "line1 = np.array([vects[1], vects[3]])\n",
    "ax.plot(line1[:,0], line1[:,1], c = 'k', lw = 3.5,alpha =0.5, ls = '--')\n",
    "\n",
    "line2 = np.array([vects[2], vects[3]])\n",
    "ax.plot(line2[:,0], line2[:,1], c = 'k', lw = 3.5,alpha =0.5, ls = '--')\n",
    "\n",
    "###################### Axis, Spines, Ticks ##########################\n",
    "ax.spines['left'].set_position('center')\n",
    "ax.spines['right'].set_color('none')\n",
    "ax.spines['bottom'].set_position('center')\n",
    "ax.spines['top'].set_color('none')\n",
    "ax.xaxis.set_ticks_position('bottom')\n",
    "ax.yaxis.set_ticks_position('left')\n",
    "\n",
    "ax.minorticks_on()\n",
    "ax.tick_params(axis = 'both', direction = 'inout', length=12, width=2, which='major')\n",
    "ax.tick_params(axis = 'both', direction = 'inout', length=10, width=1, which='minor')\n",
    "\n",
    "ax.axis([-5, 5, -5, 5])\n",
    "ax.grid()"
   ]
  },
  {
   "cell_type": "markdown",
   "metadata": {},
   "source": [
    "Use SciPy built-in function, construct two $2\\times 2$ matrices for holding head and tail coordinates of the vector."
   ]
  },
  {
   "cell_type": "code",
   "execution_count": 4,
   "metadata": {},
   "outputs": [],
   "source": [
    "a = np.array([[1, 4], [-2, 2]])\n",
    "b = np.array([[1, 4], [2, -2]])"
   ]
  },
  {
   "cell_type": "code",
   "execution_count": 10,
   "metadata": {},
   "outputs": [
    {
     "data": {
      "text/plain": [
       "array([3.60555128])"
      ]
     },
     "execution_count": 10,
     "metadata": {},
     "output_type": "execute_result"
    }
   ],
   "source": [
    "distance = sp.spatial.distance.pdist(a, 'euclidean'); distance"
   ]
  },
  {
   "cell_type": "code",
   "execution_count": 11,
   "metadata": {},
   "outputs": [
    {
     "data": {
      "text/plain": [
       "array([6.08276253])"
      ]
     },
     "execution_count": 11,
     "metadata": {},
     "output_type": "execute_result"
    }
   ],
   "source": [
    "distance = sp.spatial.distance.pdist(b, 'euclidean');distance"
   ]
  },
  {
   "cell_type": "markdown",
   "metadata": {},
   "source": [
    "Verify by NumPy ```.norm```."
   ]
  },
  {
   "cell_type": "code",
   "execution_count": 12,
   "metadata": {},
   "outputs": [],
   "source": [
    "def dist(u, v):\n",
    "    a = np.linalg.norm(u - v)\n",
    "    return a"
   ]
  },
  {
   "cell_type": "code",
   "execution_count": 13,
   "metadata": {},
   "outputs": [
    {
     "data": {
      "image/png": "[encoded data removed]",
      "text/latex": [
       "$\\displaystyle 3.605551275463989$"
      ],
      "text/plain": [
       "3.605551275463989"
      ]
     },
     "execution_count": 13,
     "metadata": {},
     "output_type": "execute_result"
    }
   ],
   "source": [
    "u = np.array([1, 4])\n",
    "v = np.array([-2, 2])\n",
    "dist(u, v)"
   ]
  },
  {
   "cell_type": "code",
   "execution_count": 14,
   "metadata": {},
   "outputs": [
    {
     "data": {
      "image/png": "[encoded data removed]",
      "text/latex": [
       "$\\displaystyle 6.082762530298219$"
      ],
      "text/plain": [
       "6.082762530298219"
      ]
     },
     "execution_count": 14,
     "metadata": {},
     "output_type": "execute_result"
    }
   ],
   "source": [
    "u = np.array([1, 4])\n",
    "v = np.array([2, -2])\n",
    "dist(u, v)"
   ]
  },
  {
   "cell_type": "markdown",
   "metadata": {},
   "source": [
    "Now Let's test if vector $(2.5, 2.5)^T$ is perpendicular to $(2, -2)^T$ and $(-2, 2)^T$."
   ]
  },
  {
   "cell_type": "code",
   "execution_count": 15,
   "metadata": {},
   "outputs": [],
   "source": [
    "a = np.array([[2.5, 2.5], [-2, 2]])\n",
    "b = np.array([[2.5, 2.5], [2, -2]])\n",
    "distance1 = sp.spatial.distance.pdist(a, 'euclidean')\n",
    "distance2 = sp.spatial.distance.pdist(b, 'euclidean')"
   ]
  },
  {
   "cell_type": "code",
   "execution_count": 16,
   "metadata": {},
   "outputs": [
    {
     "name": "stdout",
     "output_type": "stream",
     "text": [
      "[4.52769257] [4.52769257]\n"
     ]
    }
   ],
   "source": [
    "print(distance1, distance2)"
   ]
  },
  {
   "cell_type": "markdown",
   "metadata": {},
   "source": [
    "They are the same length, which means $\\mathbf{w}\\perp \\mathbf{v}$ and $\\mathbf{w}\\perp \\mathbf{-v}$."
   ]
  },
  {
   "cell_type": "markdown",
   "metadata": {},
   "source": [
    "## <font face=\"gotham\" color=\"purple\"> Orthogonal Complements</font>"
   ]
  },
  {
   "cell_type": "markdown",
   "metadata": {},
   "source": [
    "In general, the set of all vectors $\\mathbf{z}$ that are orthogonal to subspace $W$ is called <font face=\"gotham\" color=\"red\"> orthogonal complement</font>, or denoted as $W^\\perp$."
   ]
  },
  {
   "cell_type": "markdown",
   "metadata": {},
   "source": [
    "The most common example would be \n",
    "\n",
    "$$(\\operatorname{Row} A)^{\\perp}=\\operatorname{Nul} A \\quad \\text { and } \\quad(\\operatorname{Col} A)^{\\perp}=\\operatorname{Nul} A^{T}$$\n",
    "\n",
    "The nullspace of $A$ is perpendicular to the row space of $A$; the nullspace of $A^T$ is perpendicular to the column space of $A$."
   ]
  },
  {
   "cell_type": "markdown",
   "metadata": {},
   "source": [
    "# <font face=\"gotham\" color=\"purple\"> Angles in $\\mathbb{R}^n$</font>"
   ]
  },
  {
   "cell_type": "markdown",
   "metadata": {},
   "source": [
    "There is one formula of calculating angles in vector space, to derive it we need the law of cosine:\n",
    "\n",
    "$$\\|\\mathbf{u}-\\mathbf{v}\\|^{2}=\\|\\mathbf{u}\\|^{2}+\\|\\mathbf{v}\\|^{2}-2\\|\\mathbf{u}\\|\\|\\mathbf{v}\\| \\cos \\vartheta$$"
   ]
  },
  {
   "cell_type": "markdown",
   "metadata": {},
   "source": [
    "Rearrange, we get\n",
    "\n",
    "$$\\begin{aligned}\n",
    "\\|\\mathbf{u}\\|\\|\\mathbf{v}\\| \\cos \\vartheta &=\\frac{1}{2}\\left[\\|\\mathbf{u}\\|^{2}+\\|\\mathbf{v}\\|^{2}-\\|\\mathbf{u}-\\mathbf{v}\\|^{2}\\right] \\\\\n",
    "&=\\frac{1}{2}\\left[u_{1}^{2}+u_{2}^{2}+v_{1}^{2}+v_{2}^{2}-\\left(u_{1}-v_{1}\\right)^{2}-\\left(u_{2}-v_{2}\\right)^{2}\\right] \\\\\n",
    "&=u_{1} v_{1}+u_{2} v_{2} \\\\\n",
    "&=\\mathbf{u} \\cdot \\mathbf{v}\n",
    "\\end{aligned}$$"
   ]
  },
  {
   "cell_type": "markdown",
   "metadata": {},
   "source": [
    "In statistics, $\\cos{\\vartheta}$ is called <font face=\"gotham\" color=\"red\"> correlation coefficient </font>.\n",
    "\n",
    "$$\n",
    "\\cos{\\vartheta}=\\frac{\\mathbf{u} \\cdot \\mathbf{v}}{\\|\\mathbf{u}\\|\\|\\mathbf{v}\\|}\n",
    "$$"
   ]
  },
  {
   "cell_type": "markdown",
   "metadata": {},
   "source": [
    "## <font face=\"gotham\" color=\"purple\"> Geometric Interpretation of Dot Product</font>"
   ]
  },
  {
   "cell_type": "markdown",
   "metadata": {},
   "source": [
    "You probably have notices that sometimes <i>dot product</i> and <i>inner product</i> are used interchangeably. Despite that, they do have different meanings. \n",
    "\n",
    "Functions and polynomials can have inner product as well, but we usually use dot product to refer to inner product among vector space.\n",
    "\n",
    "We will show that dot product has an interesting geometric interpretation."
   ]
  },
  {
   "cell_type": "markdown",
   "metadata": {},
   "source": [
    "Consider two vectors $\\mathbf{a}$ and $\\mathbf{u}$, pointing different direction, the angle form by them is $\\vartheta$, also $\\mathbf{u}$ is a unit vector. We would like to know how much $\\mathbf{a}$ is pointing to $\\mathbf{u}$'s direction.\n",
    "\n",
    "And this value can be calculated by projecting $\\mathbf{a}$ onto $\\mathbf{u}$,\n",
    "\n",
    "$$\n",
    " \\|\\mathbf{a}\\|\\cos{\\vartheta}=\\|\\mathbf{a}\\| \\|\\mathbf{u}\\|\\cos{\\vartheta} = \\mathbf{a} \\cdot\\mathbf{u} \n",
    "$$"
   ]
  },
  {
   "cell_type": "markdown",
   "metadata": {},
   "source": [
    "Any vector $\\mathbf{b}$ can be normalized as a unit vector $\\mathbf{u}$, then perform the calculation above, we can tell how much $\\mathbf{b}$ is pointing the direction of $\\mathbf{u}$."
   ]
  },
  {
   "cell_type": "markdown",
   "metadata": {},
   "source": [
    "# <font face=\"gotham\" color=\"purple\"> Orthogonal Sets</font>"
   ]
  },
  {
   "cell_type": "markdown",
   "metadata": {},
   "source": [
    "If a set of vectors $S = \\left\\{\\mathbf{u}_{1}, \\ldots, \\mathbf{u}_{p}\\right\\}$ in $\\mathbb{R}^{n}$ has any arbitrary pair to be orthogonal, i.e. $\\mathbf{u}_{i} \\cdot \\mathbf{u}_{j}=0$ whenever $i \\neq j$, $S =\\left\\{\\mathbf{u}_{1}, \\ldots, \\mathbf{u}_{p}\\right\\}$ is called an <font face=\"gotham\" color=\"red\">orthogonal set</font>. "
   ]
  },
  {
   "cell_type": "markdown",
   "metadata": {},
   "source": [
    "Naturally, orthogonal set $S$ is linearly independent, they are also an <font face=\"gotham\" color=\"red\"> orthogonal basis</font> for space spanned by $\\left\\{\\mathbf{u}_{1}, \\ldots, \\mathbf{u}_{p}\\right\\}$. Orthogonal basis has an advantage is that coordinates of the basis can be quickly computed."
   ]
  },
  {
   "cell_type": "markdown",
   "metadata": {},
   "source": [
    "For instance any $\\mathbf{y}$ in $W$, \n",
    "\n",
    "$$\n",
    "\\mathbf{y}=c_{1} \\mathbf{u}_{1}+\\cdots+c_{p} \\mathbf{u}_{p}\n",
    "$$\n",
    "\n",
    "Because it is an orthogonal sets,\n",
    "\n",
    "$$\n",
    "\\mathbf{y} \\cdot \\mathbf{u}_{1}=\\left(c_{1} \\mathbf{u}_{1}+c_{2} \\mathbf{u}_{2}+\\cdots+c_{p} \\mathbf{u}_{p}\\right) \\cdot \\mathbf{u}_{1}=c_{1}\\left(\\mathbf{u}_{1} \\cdot \\mathbf{u}_{1}\\right)\n",
    "$$\n",
    "\n",
    "Thus\n",
    "\n",
    "$$c_{j}=\\frac{\\mathbf{y} \\cdot \\mathbf{u}_{j}}{\\mathbf{u}_{j} \\cdot \\mathbf{u}_{j}} \\quad(j=1, \\ldots, p)$$"
   ]
  },
  {
   "cell_type": "markdown",
   "metadata": {},
   "source": [
    "# <font face=\"gotham\" color=\"purple\"> Orthogonal Projection</font>"
   ]
  },
  {
   "cell_type": "markdown",
   "metadata": {},
   "source": [
    "For any $\\mathbf{y}$ in $\\mathbb{R}^n$, we want to decompose it as \n",
    "\n",
    "$$\n",
    "\\mathbf{y} = \\alpha \\mathbf{u}+\\mathbf{z} = \\hat{\\mathbf{y}}+\\mathbf{z}\n",
    "$$"
   ]
  },
  {
   "cell_type": "markdown",
   "metadata": {},
   "source": [
    "where $ \\mathbf{u}$ is perpendicular to $\\mathbf{z}$, $\\alpha$ is a scalar.And the subspace $L$ spanned by $\\mathbf{u}$, the projection of $\\mathbf{y}$ onto $L$ is denoted as\n",
    "\n",
    "$$\\hat{\\mathbf{y}}=\\operatorname{proj}_{L} \\mathbf{y}=\\frac{\\mathbf{y} \\cdot \\mathbf{u}}{\\mathbf{u} \\cdot \\mathbf{u}} \\mathbf{u}$$"
   ]
  },
  {
   "cell_type": "markdown",
   "metadata": {},
   "source": [
    "Becasue $\\mathbf{u}\\perp \\mathbf{z}$, then $\\mathbf{u}\\cdot \\mathbf{z} = 0$, replace $\\mathbf{z}$ by $\\mathbf{y}- \\alpha \\mathbf{u}$:\n",
    "\n",
    "$$\n",
    "(\\mathbf{y}- \\alpha \\mathbf{u})\\cdot \\mathbf{u}= 0\\\\\n",
    "\\alpha = \\frac{\\mathbf{y}\\cdot \\mathbf{u}}{\\mathbf{u}\\cdot \\mathbf{u}}\n",
    "$$"
   ]
  },
  {
   "cell_type": "markdown",
   "metadata": {},
   "source": [
    "Now we get the formula for projection onto $L$ spanned by $\\mathbf{u}$."
   ]
  },
  {
   "cell_type": "markdown",
   "metadata": {},
   "source": [
    "## <font face=\"gotham\" color=\"purple\"> A Visual Example in $\\mathbb{R}^T$</font>"
   ]
  },
  {
   "cell_type": "markdown",
   "metadata": {},
   "source": [
    "Suppose we have $\\mathbf{y} = (2, 5)^T$, $\\mathbf{u} = (3, 1)^T$. Plot $\\hat{\\mathbf{y}}$ onto the subspace spanned $L$ by $\\mathbf{u}$."
   ]
  },
  {
   "cell_type": "code",
   "execution_count": 17,
   "metadata": {},
   "outputs": [
    {
     "data": {
      "image/png": "[encoded data removed]",
      "text/plain": [
       "<Figure size 864x864 with 1 Axes>"
      ]
     },
     "metadata": {
      "needs_background": "light"
     },
     "output_type": "display_data"
    }
   ],
   "source": [
    "fig, ax = plt.subplots(figsize = (12, 12))\n",
    "\n",
    "vects = np.array([[4, 5], [2, 1]])\n",
    "colr = ['red', 'blue'] \n",
    "cordt = ['$(4, 5)$', '$(2, 1)$']\n",
    "vec_name = ['$\\mathbf{y}$', '$\\mathbf{u}$']\n",
    "\n",
    "for i in range(2):\n",
    "    ax.arrow(0, 0, vects[i][0], vects[i][1], color = colr[i], width = .03, \n",
    "             length_includes_head = True,\n",
    "             head_width = .1, # default: 3*width\n",
    "             head_length = .2,\n",
    "             overhang = .4)\n",
    "    ax.text(x = vects[i][0], y = vects[i][1], s = cordt[i], size = 15)\n",
    "    ax.text(x = vects[i][0]/2, y = vects[i][1]/2, s = vec_name[i], size = 22)\n",
    "\n",
    "################################### Subspace L ############################\n",
    "x = np.linspace(0, 8.1)\n",
    "y = 1/2*x\n",
    "ax.plot(x, y, lw = 3, color = 'red', alpha = .5)\n",
    "ax.text(x = 6.5, y = 3, s = '$L = \\operatorname{Span(\\mathbf{u})}$', size = 19)\n",
    "\n",
    "ax.axis([0, 8, 0, 8])\n",
    "ax.grid()"
   ]
  },
  {
   "cell_type": "markdown",
   "metadata": {},
   "source": [
    "Let's use formula to compute $\\alpha$ and $\\hat{\\mathbf{y}}$."
   ]
  },
  {
   "cell_type": "code",
   "execution_count": 20,
   "metadata": {},
   "outputs": [
    {
     "data": {
      "image/png": "[encoded data removed]",
      "text/latex": [
       "$\\displaystyle 2.6$"
      ],
      "text/plain": [
       "2.6"
      ]
     },
     "execution_count": 20,
     "metadata": {},
     "output_type": "execute_result"
    }
   ],
   "source": [
    "y = np.array([4, 5])\n",
    "u = np.array([2, 1])\n",
    "alpha = (y@u)/(u@u);alpha"
   ]
  },
  {
   "cell_type": "code",
   "execution_count": 21,
   "metadata": {},
   "outputs": [
    {
     "data": {
      "text/plain": [
       "array([5.2, 2.6])"
      ]
     },
     "execution_count": 21,
     "metadata": {},
     "output_type": "execute_result"
    }
   ],
   "source": [
    "yhat = alpha*u;yhat"
   ]
  },
  {
   "cell_type": "markdown",
   "metadata": {},
   "source": [
    "With results above, we can plot the orthogonal projection."
   ]
  },
  {
   "cell_type": "code",
   "execution_count": 19,
   "metadata": {},
   "outputs": [
    {
     "data": {
      "image/png": "[encoded data removed]",
      "text/plain": [
       "<Figure size 864x864 with 1 Axes>"
      ]
     },
     "metadata": {
      "needs_background": "light"
     },
     "output_type": "display_data"
    }
   ],
   "source": [
    "fig, ax = plt.subplots(figsize = (12, 12))\n",
    "\n",
    "vects = np.array([[4, 5], [2, 1], [5.2, 2.6]])\n",
    "colr = ['red', 'blue', 'green'] \n",
    "cordt = ['$(4, 5)$', '$(2, 1)$', '(5.2, 2.6)']\n",
    "vec_name = ['$\\mathbf{y}$', '$\\mathbf{u}$', r'$\\hat{\\mathbf{y}} = \\alpha\\mathbf{u}$']\n",
    "\n",
    "for i in range(3):\n",
    "    ax.arrow(0, 0, vects[i][0], vects[i][1], color = colr[i], width = .03, \n",
    "             length_includes_head = True,\n",
    "             head_width = .1, # default: 3*width\n",
    "             head_length = .2,\n",
    "             overhang = .4, zorder = -i)\n",
    "    ax.text(x = vects[i][0], y = vects[i][1], s = cordt[i], size = 19)\n",
    "    ax.text(x = vects[i][0]/2, y = vects[i][1]/2, s = vec_name[i], size = 22)\n",
    "\n",
    "##################################### Components of y orthogonal to u ##########################\n",
    "\n",
    "point1 = [4, 5]\n",
    "point2 = [5.2, 2.6]\n",
    "line1 = np.array([point1, point2])\n",
    "ax.plot(line1[:,0], line1[:,1], c = 'k', lw = 3.5,alpha =0.5, ls = '--')\n",
    "ax.text(4.7, 3.8, '$\\mathbf{z}$', size = 22)\n",
    "################################### Subspace L ############################\n",
    "x = np.linspace(0, 8.1)\n",
    "y = 1/2*x\n",
    "ax.plot(x, y, lw = 3, color = 'red', alpha = .5, zorder = -3)\n",
    "ax.text(x = 6.5, y = 3, s = '$L = \\operatorname{Span(\\mathbf{u})}$', size = 19)\n",
    "\n",
    "ax.axis([0, 8, 0, 8])\n",
    "ax.grid()\n",
    "\n",
    "#################################### Formula ################################\n",
    "ax.text(x = 1, y = 7, \n",
    "        s = r'$(\\mathbf{y}- \\alpha \\mathbf{u})\\cdot \\mathbf{u}= 0$',\n",
    "        size = 22, color = 'b')\n",
    "ax.text(x = 1, y = 6.5, \n",
    "        s = r'$\\alpha = \\frac{\\mathbf{y}\\cdot \\mathbf{u}}{\\mathbf{u}\\cdot \\mathbf{u}}$',\n",
    "        size = 22, color = 'b')\n",
    "ax.text(x = 1, y = 6, \n",
    "        s = r'$\\operatorname{proj}_{L}\\mathbf{y}=\\frac{\\mathbf{y}\\cdot\\mathbf{u}}{\\mathbf{u}\\cdot\\mathbf{u}}\\mathbf{u}$',\n",
    "        size = 22, color = 'b')\n",
    "plt.show()"
   ]
  },
  {
   "cell_type": "markdown",
   "metadata": {},
   "source": [
    "## <font face=\"gotham\" color=\"purple\"> The Orthogonal Decomposition Theorem</font>"
   ]
  },
  {
   "cell_type": "markdown",
   "metadata": {},
   "source": [
    "To generalize the orthogonal projection in the higher dimension $\\mathbb{R}^n$, we summarize the idea into the <font face=\"gotham\" color=\"red\"> orthogonal decomposition theorem</font>.\n",
    "\n",
    "Let $W$ be a subspace of $\\mathbb{R}^{n}$. Then each $\\mathbf{y}$ in $\\mathbb{R}^{n}$ can be written uniquely in the form\n",
    "$$\n",
    "\\mathbf{y}=\\hat{\\mathbf{y}}+\\mathbf{z}\n",
    "$$\n",
    "where $\\hat{\\mathbf{y}}$ is in $W$ and $\\mathbf{z}$ is in $W^{\\perp} .$ In fact, if $\\left\\{\\mathbf{u}_{1}, \\ldots, \\mathbf{u}_{p}\\right\\}$ is any orthogonal basis of $W,$ then\n",
    "$$\n",
    "\\hat{\\mathbf{y}}=\\frac{\\mathbf{y} \\cdot \\mathbf{u}_{1}}{\\mathbf{u}_{1} \\cdot \\mathbf{u}_{1}} \\mathbf{u}_{1}+\\cdots+\\frac{\\mathbf{y} \\cdot \\mathbf{u}_{p}}{\\mathbf{u}_{p} \\cdot \\mathbf{u}_{p}} \\mathbf{u}_{p}\n",
    "$$\n",
    "and $\\mathbf{z}=\\mathbf{y}-\\hat{\\mathbf{y}}$."
   ]
  },
  {
   "cell_type": "markdown",
   "metadata": {},
   "source": [
    "In $\\mathbb{R}^{2}$, we project $\\mathbf{y}$ onto subspace $L$ which is spanned by $\\mathbf{u}$, here we generalize the formula for $\\mathbb{R}^{n}$, that $\\mathbf{y}$ is projected onto $W$ which is spanned by $\\left\\{\\mathbf{u}_{1}, \\ldots, \\mathbf{u}_{p}\\right\\}$."
   ]
  },
  {
   "cell_type": "markdown",
   "metadata": {},
   "source": [
    "## <font face=\"gotham\" color=\"purple\"> A Visual Example in $\\mathbb{R}^{3}$</font>"
   ]
  },
  {
   "cell_type": "markdown",
   "metadata": {},
   "source": [
    "A subspace $W=\\operatorname{Span}\\left\\{\\mathbf{u}_{1}, \\mathbf{u}_{2}\\right\\}$, and a vector $\\mathbf{y}$ is not in $W$, decompose $\\mathbf{y}$ into $\\hat{\\mathbf{y}} + \\mathbf{z}$, and plot them.\n",
    "\n",
    "where \n",
    "\n",
    "$$\\mathbf{u}_{1}=\\left[\\begin{array}{r}\n",
    "2 \\\\\n",
    "5 \\\\\n",
    "-1\n",
    "\\end{array}\\right], \\mathbf{u}_{2}=\\left[\\begin{array}{r}\n",
    "-2 \\\\\n",
    "1 \\\\\n",
    "1\n",
    "\\end{array}\\right], \\text { and } \\mathbf{y}=\\left[\\begin{array}{l}\n",
    "1 \\\\\n",
    "2 \\\\\n",
    "3\n",
    "\\end{array}\\right]$$"
   ]
  },
  {
   "cell_type": "markdown",
   "metadata": {},
   "source": [
    "The projection onto $W$ in $\\mathbb{R}^3$ is \n",
    "\n",
    "$$\n",
    "\\hat{\\mathbf{y}}=\\frac{\\mathbf{y} \\cdot \\mathbf{u}_{1}}{\\mathbf{u}_{1} \\cdot \\mathbf{u}_{1}} \\mathbf{u}_{1}+\\frac{\\mathbf{y} \\cdot \\mathbf{u}_{2}}{\\mathbf{u}_{2} \\cdot \\mathbf{u}_{2}} \\mathbf{u}_{2}=\\hat{\\mathbf{y}}_{1}+\\hat{\\mathbf{y}}_{2}\n",
    "$$"
   ]
  },
  {
   "cell_type": "markdown",
   "metadata": {},
   "source": [
    "The codes for plotting are quite redundent, however exceedingly intuitive."
   ]
  },
  {
   "cell_type": "code",
   "execution_count": 26,
   "metadata": {},
   "outputs": [
    {
     "data": {
      "application/javascript": [
       "/* Put everything inside the global mpl namespace */\n",
       "window.mpl = {};\n",
       "\n",
       "\n",
       "mpl.get_websocket_type = function() {\n",
       "    if (typeof(WebSocket) !== 'undefined') {\n",
       "        return WebSocket;\n",
       "    } else if (typeof(MozWebSocket) !== 'undefined') {\n",
       "        return MozWebSocket;\n",
       "    } else {\n",
       "        alert('Your browser does not have WebSocket support. ' +\n",
       "              'Please try Chrome, Safari or Firefox ≥ 6. ' +\n",
       "              'Firefox 4 and 5 are also supported but you ' +\n",
       "              'have to enable WebSockets in about:config.');\n",
       "    };\n",
       "}\n",
       "\n",
       "mpl.figure = function(figure_id, websocket, ondownload, parent_element) {\n",
       "    this.id = figure_id;\n",
       "\n",
       "    this.ws = websocket;\n",
       "\n",
       "    this.supports_binary = (this.ws.binaryType != undefined);\n",
       "\n",
       "    if (!this.supports_binary) {\n",
       "        var warnings = document.getElementById(\"mpl-warnings\");\n",
       "        if (warnings) {\n",
       "            warnings.style.display = 'block';\n",
       "            warnings.textContent = (\n",
       "                \"This browser does not support binary websocket messages. \" +\n",
       "                    \"Performance may be slow.\");\n",
       "        }\n",
       "    }\n",
       "\n",
       "    this.imageObj = new Image();\n",
       "\n",
       "    this.context = undefined;\n",
       "    this.message = undefined;\n",
       "    this.canvas = undefined;\n",
       "    this.rubberband_canvas = undefined;\n",
       "    this.rubberband_context = undefined;\n",
       "    this.format_dropdown = undefined;\n",
       "\n",
       "    this.image_mode = 'full';\n",
       "\n",
       "    this.root = $('<div/>');\n",
       "    this._root_extra_style(this.root)\n",
       "    this.root.attr('style', 'display: inline-block');\n",
       "\n",
       "    $(parent_element).append(this.root);\n",
       "\n",
       "    this._init_header(this);\n",
       "    this._init_canvas(this);\n",
       "    this._init_toolbar(this);\n",
       "\n",
       "    var fig = this;\n",
       "\n",
       "    this.waiting = false;\n",
       "\n",
       "    this.ws.onopen =  function () {\n",
       "            fig.send_message(\"supports_binary\", {value: fig.supports_binary});\n",
       "            fig.send_message(\"send_image_mode\", {});\n",
       "            if (mpl.ratio != 1) {\n",
       "                fig.send_message(\"set_dpi_ratio\", {'dpi_ratio': mpl.ratio});\n",
       "            }\n",
       "            fig.send_message(\"refresh\", {});\n",
       "        }\n",
       "\n",
       "    this.imageObj.onload = function() {\n",
       "            if (fig.image_mode == 'full') {\n",
       "                // Full images could contain transparency (where diff images\n",
       "                // almost always do), so we need to clear the canvas so that\n",
       "                // there is no ghosting.\n",
       "                fig.context.clearRect(0, 0, fig.canvas.width, fig.canvas.height);\n",
       "            }\n",
       "            fig.context.drawImage(fig.imageObj, 0, 0);\n",
       "        };\n",
       "\n",
       "    this.imageObj.onunload = function() {\n",
       "        fig.ws.close();\n",
       "    }\n",
       "\n",
       "    this.ws.onmessage = this._make_on_message_function(this);\n",
       "\n",
       "    this.ondownload = ondownload;\n",
       "}\n",
       "\n",
       "mpl.figure.prototype._init_header = function() {\n",
       "    var titlebar = $(\n",
       "        '<div class=\"ui-dialog-titlebar ui-widget-header ui-corner-all ' +\n",
       "        'ui-helper-clearfix\"/>');\n",
       "    var titletext = $(\n",
       "        '<div class=\"ui-dialog-title\" style=\"width: 100%; ' +\n",
       "        'text-align: center; padding: 3px;\"/>');\n",
       "    titlebar.append(titletext)\n",
       "    this.root.append(titlebar);\n",
       "    this.header = titletext[0];\n",
       "}\n",
       "\n",
       "\n",
       "\n",
       "mpl.figure.prototype._canvas_extra_style = function(canvas_div) {\n",
       "\n",
       "}\n",
       "\n",
       "\n",
       "mpl.figure.prototype._root_extra_style = function(canvas_div) {\n",
       "\n",
       "}\n",
       "\n",
       "mpl.figure.prototype._init_canvas = function() {\n",
       "    var fig = this;\n",
       "\n",
       "    var canvas_div = $('<div/>');\n",
       "\n",
       "    canvas_div.attr('style', 'position: relative; clear: both; outline: 0');\n",
       "\n",
       "    function canvas_keyboard_event(event) {\n",
       "        return fig.key_event(event, event['data']);\n",
       "    }\n",
       "\n",
       "    canvas_div.keydown('key_press', canvas_keyboard_event);\n",
       "    canvas_div.keyup('key_release', canvas_keyboard_event);\n",
       "    this.canvas_div = canvas_div\n",
       "    this._canvas_extra_style(canvas_div)\n",
       "    this.root.append(canvas_div);\n",
       "\n",
       "    var canvas = $('<canvas/>');\n",
       "    canvas.addClass('mpl-canvas');\n",
       "    canvas.attr('style', \"left: 0; top: 0; z-index: 0; outline: 0\")\n",
       "\n",
       "    this.canvas = canvas[0];\n",
       "    this.context = canvas[0].getContext(\"2d\");\n",
       "\n",
       "    var backingStore = this.context.backingStorePixelRatio ||\n",
       "\tthis.context.webkitBackingStorePixelRatio ||\n",
       "\tthis.context.mozBackingStorePixelRatio ||\n",
       "\tthis.context.msBackingStorePixelRatio ||\n",
       "\tthis.context.oBackingStorePixelRatio ||\n",
       "\tthis.context.backingStorePixelRatio || 1;\n",
       "\n",
       "    mpl.ratio = (window.devicePixelRatio || 1) / backingStore;\n",
       "\n",
       "    var rubberband = $('<canvas/>');\n",
       "    rubberband.attr('style', \"position: absolute; left: 0; top: 0; z-index: 1;\")\n",
       "\n",
       "    var pass_mouse_events = true;\n",
       "\n",
       "    canvas_div.resizable({\n",
       "        start: function(event, ui) {\n",
       "            pass_mouse_events = false;\n",
       "        },\n",
       "        resize: function(event, ui) {\n",
       "            fig.request_resize(ui.size.width, ui.size.height);\n",
       "        },\n",
       "        stop: function(event, ui) {\n",
       "            pass_mouse_events = true;\n",
       "            fig.request_resize(ui.size.width, ui.size.height);\n",
       "        },\n",
       "    });\n",
       "\n",
       "    function mouse_event_fn(event) {\n",
       "        if (pass_mouse_events)\n",
       "            return fig.mouse_event(event, event['data']);\n",
       "    }\n",
       "\n",
       "    rubberband.mousedown('button_press', mouse_event_fn);\n",
       "    rubberband.mouseup('button_release', mouse_event_fn);\n",
       "    // Throttle sequential mouse events to 1 every 20ms.\n",
       "    rubberband.mousemove('motion_notify', mouse_event_fn);\n",
       "\n",
       "    rubberband.mouseenter('figure_enter', mouse_event_fn);\n",
       "    rubberband.mouseleave('figure_leave', mouse_event_fn);\n",
       "\n",
       "    canvas_div.on(\"wheel\", function (event) {\n",
       "        event = event.originalEvent;\n",
       "        event['data'] = 'scroll'\n",
       "        if (event.deltaY < 0) {\n",
       "            event.step = 1;\n",
       "        } else {\n",
       "            event.step = -1;\n",
       "        }\n",
       "        mouse_event_fn(event);\n",
       "    });\n",
       "\n",
       "    canvas_div.append(canvas);\n",
       "    canvas_div.append(rubberband);\n",
       "\n",
       "    this.rubberband = rubberband;\n",
       "    this.rubberband_canvas = rubberband[0];\n",
       "    this.rubberband_context = rubberband[0].getContext(\"2d\");\n",
       "    this.rubberband_context.strokeStyle = \"#000000\";\n",
       "\n",
       "    this._resize_canvas = function(width, height) {\n",
       "        // Keep the size of the canvas, canvas container, and rubber band\n",
       "        // canvas in synch.\n",
       "        canvas_div.css('width', width)\n",
       "        canvas_div.css('height', height)\n",
       "\n",
       "        canvas.attr('width', width * mpl.ratio);\n",
       "        canvas.attr('height', height * mpl.ratio);\n",
       "        canvas.attr('style', 'width: ' + width + 'px; height: ' + height + 'px;');\n",
       "\n",
       "        rubberband.attr('width', width);\n",
       "        rubberband.attr('height', height);\n",
       "    }\n",
       "\n",
       "    // Set the figure to an initial 600x600px, this will subsequently be updated\n",
       "    // upon first draw.\n",
       "    this._resize_canvas(600, 600);\n",
       "\n",
       "    // Disable right mouse context menu.\n",
       "    $(this.rubberband_canvas).bind(\"contextmenu\",function(e){\n",
       "        return false;\n",
       "    });\n",
       "\n",
       "    function set_focus () {\n",
       "        canvas.focus();\n",
       "        canvas_div.focus();\n",
       "    }\n",
       "\n",
       "    window.setTimeout(set_focus, 100);\n",
       "}\n",
       "\n",
       "mpl.figure.prototype._init_toolbar = function() {\n",
       "    var fig = this;\n",
       "\n",
       "    var nav_element = $('<div/>');\n",
       "    nav_element.attr('style', 'width: 100%');\n",
       "    this.root.append(nav_element);\n",
       "\n",
       "    // Define a callback function for later on.\n",
       "    function toolbar_event(event) {\n",
       "        return fig.toolbar_button_onclick(event['data']);\n",
       "    }\n",
       "    function toolbar_mouse_event(event) {\n",
       "        return fig.toolbar_button_onmouseover(event['data']);\n",
       "    }\n",
       "\n",
       "    for(var toolbar_ind in mpl.toolbar_items) {\n",
       "        var name = mpl.toolbar_items[toolbar_ind][0];\n",
       "        var tooltip = mpl.toolbar_items[toolbar_ind][1];\n",
       "        var image = mpl.toolbar_items[toolbar_ind][2];\n",
       "        var method_name = mpl.toolbar_items[toolbar_ind][3];\n",
       "\n",
       "        if (!name) {\n",
       "            // put a spacer in here.\n",
       "            continue;\n",
       "        }\n",
       "        var button = $('<button/>');\n",
       "        button.addClass('ui-button ui-widget ui-state-default ui-corner-all ' +\n",
       "                        'ui-button-icon-only');\n",
       "        button.attr('role', 'button');\n",
       "        button.attr('aria-disabled', 'false');\n",
       "        button.click(method_name, toolbar_event);\n",
       "        button.mouseover(tooltip, toolbar_mouse_event);\n",
       "\n",
       "        var icon_img = $('<span/>');\n",
       "        icon_img.addClass('ui-button-icon-primary ui-icon');\n",
       "        icon_img.addClass(image);\n",
       "        icon_img.addClass('ui-corner-all');\n",
       "\n",
       "        var tooltip_span = $('<span/>');\n",
       "        tooltip_span.addClass('ui-button-text');\n",
       "        tooltip_span.html(tooltip);\n",
       "\n",
       "        button.append(icon_img);\n",
       "        button.append(tooltip_span);\n",
       "\n",
       "        nav_element.append(button);\n",
       "    }\n",
       "\n",
       "    var fmt_picker_span = $('<span/>');\n",
       "\n",
       "    var fmt_picker = $('<select/>');\n",
       "    fmt_picker.addClass('mpl-toolbar-option ui-widget ui-widget-content');\n",
       "    fmt_picker_span.append(fmt_picker);\n",
       "    nav_element.append(fmt_picker_span);\n",
       "    this.format_dropdown = fmt_picker[0];\n",
       "\n",
       "    for (var ind in mpl.extensions) {\n",
       "        var fmt = mpl.extensions[ind];\n",
       "        var option = $(\n",
       "            '<option/>', {selected: fmt === mpl.default_extension}).html(fmt);\n",
       "        fmt_picker.append(option);\n",
       "    }\n",
       "\n",
       "    // Add hover states to the ui-buttons\n",
       "    $( \".ui-button\" ).hover(\n",
       "        function() { $(this).addClass(\"ui-state-hover\");},\n",
       "        function() { $(this).removeClass(\"ui-state-hover\");}\n",
       "    );\n",
       "\n",
       "    var status_bar = $('<span class=\"mpl-message\"/>');\n",
       "    nav_element.append(status_bar);\n",
       "    this.message = status_bar[0];\n",
       "}\n",
       "\n",
       "mpl.figure.prototype.request_resize = function(x_pixels, y_pixels) {\n",
       "    // Request matplotlib to resize the figure. Matplotlib will then trigger a resize in the client,\n",
       "    // which will in turn request a refresh of the image.\n",
       "    this.send_message('resize', {'width': x_pixels, 'height': y_pixels});\n",
       "}\n",
       "\n",
       "mpl.figure.prototype.send_message = function(type, properties) {\n",
       "    properties['type'] = type;\n",
       "    properties['figure_id'] = this.id;\n",
       "    this.ws.send(JSON.stringify(properties));\n",
       "}\n",
       "\n",
       "mpl.figure.prototype.send_draw_message = function() {\n",
       "    if (!this.waiting) {\n",
       "        this.waiting = true;\n",
       "        this.ws.send(JSON.stringify({type: \"draw\", figure_id: this.id}));\n",
       "    }\n",
       "}\n",
       "\n",
       "\n",
       "mpl.figure.prototype.handle_save = function(fig, msg) {\n",
       "    var format_dropdown = fig.format_dropdown;\n",
       "    var format = format_dropdown.options[format_dropdown.selectedIndex].value;\n",
       "    fig.ondownload(fig, format);\n",
       "}\n",
       "\n",
       "\n",
       "mpl.figure.prototype.handle_resize = function(fig, msg) {\n",
       "    var size = msg['size'];\n",
       "    if (size[0] != fig.canvas.width || size[1] != fig.canvas.height) {\n",
       "        fig._resize_canvas(size[0], size[1]);\n",
       "        fig.send_message(\"refresh\", {});\n",
       "    };\n",
       "}\n",
       "\n",
       "mpl.figure.prototype.handle_rubberband = function(fig, msg) {\n",
       "    var x0 = msg['x0'] / mpl.ratio;\n",
       "    var y0 = (fig.canvas.height - msg['y0']) / mpl.ratio;\n",
       "    var x1 = msg['x1'] / mpl.ratio;\n",
       "    var y1 = (fig.canvas.height - msg['y1']) / mpl.ratio;\n",
       "    x0 = Math.floor(x0) + 0.5;\n",
       "    y0 = Math.floor(y0) + 0.5;\n",
       "    x1 = Math.floor(x1) + 0.5;\n",
       "    y1 = Math.floor(y1) + 0.5;\n",
       "    var min_x = Math.min(x0, x1);\n",
       "    var min_y = Math.min(y0, y1);\n",
       "    var width = Math.abs(x1 - x0);\n",
       "    var height = Math.abs(y1 - y0);\n",
       "\n",
       "    fig.rubberband_context.clearRect(\n",
       "        0, 0, fig.canvas.width / mpl.ratio, fig.canvas.height / mpl.ratio);\n",
       "\n",
       "    fig.rubberband_context.strokeRect(min_x, min_y, width, height);\n",
       "}\n",
       "\n",
       "mpl.figure.prototype.handle_figure_label = function(fig, msg) {\n",
       "    // Updates the figure title.\n",
       "    fig.header.textContent = msg['label'];\n",
       "}\n",
       "\n",
       "mpl.figure.prototype.handle_cursor = function(fig, msg) {\n",
       "    var cursor = msg['cursor'];\n",
       "    switch(cursor)\n",
       "    {\n",
       "    case 0:\n",
       "        cursor = 'pointer';\n",
       "        break;\n",
       "    case 1:\n",
       "        cursor = 'default';\n",
       "        break;\n",
       "    case 2:\n",
       "        cursor = 'crosshair';\n",
       "        break;\n",
       "    case 3:\n",
       "        cursor = 'move';\n",
       "        break;\n",
       "    }\n",
       "    fig.rubberband_canvas.style.cursor = cursor;\n",
       "}\n",
       "\n",
       "mpl.figure.prototype.handle_message = function(fig, msg) {\n",
       "    fig.message.textContent = msg['message'];\n",
       "}\n",
       "\n",
       "mpl.figure.prototype.handle_draw = function(fig, msg) {\n",
       "    // Request the server to send over a new figure.\n",
       "    fig.send_draw_message();\n",
       "}\n",
       "\n",
       "mpl.figure.prototype.handle_image_mode = function(fig, msg) {\n",
       "    fig.image_mode = msg['mode'];\n",
       "}\n",
       "\n",
       "mpl.figure.prototype.updated_canvas_event = function() {\n",
       "    // Called whenever the canvas gets updated.\n",
       "    this.send_message(\"ack\", {});\n",
       "}\n",
       "\n",
       "// A function to construct a web socket function for onmessage handling.\n",
       "// Called in the figure constructor.\n",
       "mpl.figure.prototype._make_on_message_function = function(fig) {\n",
       "    return function socket_on_message(evt) {\n",
       "        if (evt.data instanceof Blob) {\n",
       "            /* FIXME: We get \"Resource interpreted as Image but\n",
       "             * transferred with MIME type text/plain:\" errors on\n",
       "             * Chrome.  But how to set the MIME type?  It doesn't seem\n",
       "             * to be part of the websocket stream */\n",
       "            evt.data.type = \"image/png\";\n",
       "\n",
       "            /* Free the memory for the previous frames */\n",
       "            if (fig.imageObj.src) {\n",
       "                (window.URL || window.webkitURL).revokeObjectURL(\n",
       "                    fig.imageObj.src);\n",
       "            }\n",
       "\n",
       "            fig.imageObj.src = (window.URL || window.webkitURL).createObjectURL(\n",
       "                evt.data);\n",
       "            fig.updated_canvas_event();\n",
       "            fig.waiting = false;\n",
       "            return;\n",
       "        }\n",
       "        else if (typeof evt.data === 'string' && evt.data.slice(0, 21) == \"data:image/png;base64\") {\n",
       "            fig.imageObj.src = evt.data;\n",
       "            fig.updated_canvas_event();\n",
       "            fig.waiting = false;\n",
       "            return;\n",
       "        }\n",
       "\n",
       "        var msg = JSON.parse(evt.data);\n",
       "        var msg_type = msg['type'];\n",
       "\n",
       "        // Call the  \"handle_{type}\" callback, which takes\n",
       "        // the figure and JSON message as its only arguments.\n",
       "        try {\n",
       "            var callback = fig[\"handle_\" + msg_type];\n",
       "        } catch (e) {\n",
       "            console.log(\"No handler for the '\" + msg_type + \"' message type: \", msg);\n",
       "            return;\n",
       "        }\n",
       "\n",
       "        if (callback) {\n",
       "            try {\n",
       "                // console.log(\"Handling '\" + msg_type + \"' message: \", msg);\n",
       "                callback(fig, msg);\n",
       "            } catch (e) {\n",
       "                console.log(\"Exception inside the 'handler_\" + msg_type + \"' callback:\", e, e.stack, msg);\n",
       "            }\n",
       "        }\n",
       "    };\n",
       "}\n",
       "\n",
       "// from http://stackoverflow.com/questions/1114465/getting-mouse-location-in-canvas\n",
       "mpl.findpos = function(e) {\n",
       "    //this section is from http://www.quirksmode.org/js/events_properties.html\n",
       "    var targ;\n",
       "    if (!e)\n",
       "        e = window.event;\n",
       "    if (e.target)\n",
       "        targ = e.target;\n",
       "    else if (e.srcElement)\n",
       "        targ = e.srcElement;\n",
       "    if (targ.nodeType == 3) // defeat Safari bug\n",
       "        targ = targ.parentNode;\n",
       "\n",
       "    // jQuery normalizes the pageX and pageY\n",
       "    // pageX,Y are the mouse positions relative to the document\n",
       "    // offset() returns the position of the element relative to the document\n",
       "    var x = e.pageX - $(targ).offset().left;\n",
       "    var y = e.pageY - $(targ).offset().top;\n",
       "\n",
       "    return {\"x\": x, \"y\": y};\n",
       "};\n",
       "\n",
       "/*\n",
       " * return a copy of an object with only non-object keys\n",
       " * we need this to avoid circular references\n",
       " * http://stackoverflow.com/a/24161582/3208463\n",
       " */\n",
       "function simpleKeys (original) {\n",
       "  return Object.keys(original).reduce(function (obj, key) {\n",
       "    if (typeof original[key] !== 'object')\n",
       "        obj[key] = original[key]\n",
       "    return obj;\n",
       "  }, {});\n",
       "}\n",
       "\n",
       "mpl.figure.prototype.mouse_event = function(event, name) {\n",
       "    var canvas_pos = mpl.findpos(event)\n",
       "\n",
       "    if (name === 'button_press')\n",
       "    {\n",
       "        this.canvas.focus();\n",
       "        this.canvas_div.focus();\n",
       "    }\n",
       "\n",
       "    var x = canvas_pos.x * mpl.ratio;\n",
       "    var y = canvas_pos.y * mpl.ratio;\n",
       "\n",
       "    this.send_message(name, {x: x, y: y, button: event.button,\n",
       "                             step: event.step,\n",
       "                             guiEvent: simpleKeys(event)});\n",
       "\n",
       "    /* This prevents the web browser from automatically changing to\n",
       "     * the text insertion cursor when the button is pressed.  We want\n",
       "     * to control all of the cursor setting manually through the\n",
       "     * 'cursor' event from matplotlib */\n",
       "    event.preventDefault();\n",
       "    return false;\n",
       "}\n",
       "\n",
       "mpl.figure.prototype._key_event_extra = function(event, name) {\n",
       "    // Handle any extra behaviour associated with a key event\n",
       "}\n",
       "\n",
       "mpl.figure.prototype.key_event = function(event, name) {\n",
       "\n",
       "    // Prevent repeat events\n",
       "    if (name == 'key_press')\n",
       "    {\n",
       "        if (event.which === this._key)\n",
       "            return;\n",
       "        else\n",
       "            this._key = event.which;\n",
       "    }\n",
       "    if (name == 'key_release')\n",
       "        this._key = null;\n",
       "\n",
       "    var value = '';\n",
       "    if (event.ctrlKey && event.which != 17)\n",
       "        value += \"ctrl+\";\n",
       "    if (event.altKey && event.which != 18)\n",
       "        value += \"alt+\";\n",
       "    if (event.shiftKey && event.which != 16)\n",
       "        value += \"shift+\";\n",
       "\n",
       "    value += 'k';\n",
       "    value += event.which.toString();\n",
       "\n",
       "    this._key_event_extra(event, name);\n",
       "\n",
       "    this.send_message(name, {key: value,\n",
       "                             guiEvent: simpleKeys(event)});\n",
       "    return false;\n",
       "}\n",
       "\n",
       "mpl.figure.prototype.toolbar_button_onclick = function(name) {\n",
       "    if (name == 'download') {\n",
       "        this.handle_save(this, null);\n",
       "    } else {\n",
       "        this.send_message(\"toolbar_button\", {name: name});\n",
       "    }\n",
       "};\n",
       "\n",
       "mpl.figure.prototype.toolbar_button_onmouseover = function(tooltip) {\n",
       "    this.message.textContent = tooltip;\n",
       "};\n",
       "mpl.toolbar_items = [[\"Home\", \"Reset original view\", \"fa fa-home icon-home\", \"home\"], [\"Back\", \"Back to previous view\", \"fa fa-arrow-left icon-arrow-left\", \"back\"], [\"Forward\", \"Forward to next view\", \"fa fa-arrow-right icon-arrow-right\", \"forward\"], [\"\", \"\", \"\", \"\"], [\"Pan\", \"Pan axes with left mouse, zoom with right\", \"fa fa-arrows icon-move\", \"pan\"], [\"Zoom\", \"Zoom to rectangle\", \"fa fa-square-o icon-check-empty\", \"zoom\"], [\"\", \"\", \"\", \"\"], [\"Download\", \"Download plot\", \"fa fa-floppy-o icon-save\", \"download\"]];\n",
       "\n",
       "mpl.extensions = [\"eps\", \"jpeg\", \"pdf\", \"png\", \"ps\", \"raw\", \"svg\", \"tif\"];\n",
       "\n",
       "mpl.default_extension = \"png\";var comm_websocket_adapter = function(comm) {\n",
       "    // Create a \"websocket\"-like object which calls the given IPython comm\n",
       "    // object with the appropriate methods. Currently this is a non binary\n",
       "    // socket, so there is still some room for performance tuning.\n",
       "    var ws = {};\n",
       "\n",
       "    ws.close = function() {\n",
       "        comm.close()\n",
       "    };\n",
       "    ws.send = function(m) {\n",
       "        //console.log('sending', m);\n",
       "        comm.send(m);\n",
       "    };\n",
       "    // Register the callback with on_msg.\n",
       "    comm.on_msg(function(msg) {\n",
       "        //console.log('receiving', msg['content']['data'], msg);\n",
       "        // Pass the mpl event to the overridden (by mpl) onmessage function.\n",
       "        ws.onmessage(msg['content']['data'])\n",
       "    });\n",
       "    return ws;\n",
       "}\n",
       "\n",
       "mpl.mpl_figure_comm = function(comm, msg) {\n",
       "    // This is the function which gets called when the mpl process\n",
       "    // starts-up an IPython Comm through the \"matplotlib\" channel.\n",
       "\n",
       "    var id = msg.content.data.id;\n",
       "    // Get hold of the div created by the display call when the Comm\n",
       "    // socket was opened in Python.\n",
       "    var element = $(\"#\" + id);\n",
       "    var ws_proxy = comm_websocket_adapter(comm)\n",
       "\n",
       "    function ondownload(figure, format) {\n",
       "        window.open(figure.imageObj.src);\n",
       "    }\n",
       "\n",
       "    var fig = new mpl.figure(id, ws_proxy,\n",
       "                           ondownload,\n",
       "                           element.get(0));\n",
       "\n",
       "    // Call onopen now - mpl needs it, as it is assuming we've passed it a real\n",
       "    // web socket which is closed, not our websocket->open comm proxy.\n",
       "    ws_proxy.onopen();\n",
       "\n",
       "    fig.parent_element = element.get(0);\n",
       "    fig.cell_info = mpl.find_output_cell(\"<div id='\" + id + \"'></div>\");\n",
       "    if (!fig.cell_info) {\n",
       "        console.error(\"Failed to find cell for figure\", id, fig);\n",
       "        return;\n",
       "    }\n",
       "\n",
       "    var output_index = fig.cell_info[2]\n",
       "    var cell = fig.cell_info[0];\n",
       "\n",
       "};\n",
       "\n",
       "mpl.figure.prototype.handle_close = function(fig, msg) {\n",
       "    var width = fig.canvas.width/mpl.ratio\n",
       "    fig.root.unbind('remove')\n",
       "\n",
       "    // Update the output cell to use the data from the current canvas.\n",
       "    fig.push_to_output();\n",
       "    var dataURL = fig.canvas.toDataURL();\n",
       "    // Re-enable the keyboard manager in IPython - without this line, in FF,\n",
       "    // the notebook keyboard shortcuts fail.\n",
       "    IPython.keyboard_manager.enable()\n",
       "    $(fig.parent_element).html('<img src=\"' + dataURL + '\" width=\"' + width + '\">');\n",
       "    fig.close_ws(fig, msg);\n",
       "}\n",
       "\n",
       "mpl.figure.prototype.close_ws = function(fig, msg){\n",
       "    fig.send_message('closing', msg);\n",
       "    // fig.ws.close()\n",
       "}\n",
       "\n",
       "mpl.figure.prototype.push_to_output = function(remove_interactive) {\n",
       "    // Turn the data on the canvas into data in the output cell.\n",
       "    var width = this.canvas.width/mpl.ratio\n",
       "    var dataURL = this.canvas.toDataURL();\n",
       "    this.cell_info[1]['text/html'] = '<img src=\"' + dataURL + '\" width=\"' + width + '\">';\n",
       "}\n",
       "\n",
       "mpl.figure.prototype.updated_canvas_event = function() {\n",
       "    // Tell IPython that the notebook contents must change.\n",
       "    IPython.notebook.set_dirty(true);\n",
       "    this.send_message(\"ack\", {});\n",
       "    var fig = this;\n",
       "    // Wait a second, then push the new image to the DOM so\n",
       "    // that it is saved nicely (might be nice to debounce this).\n",
       "    setTimeout(function () { fig.push_to_output() }, 1000);\n",
       "}\n",
       "\n",
       "mpl.figure.prototype._init_toolbar = function() {\n",
       "    var fig = this;\n",
       "\n",
       "    var nav_element = $('<div/>');\n",
       "    nav_element.attr('style', 'width: 100%');\n",
       "    this.root.append(nav_element);\n",
       "\n",
       "    // Define a callback function for later on.\n",
       "    function toolbar_event(event) {\n",
       "        return fig.toolbar_button_onclick(event['data']);\n",
       "    }\n",
       "    function toolbar_mouse_event(event) {\n",
       "        return fig.toolbar_button_onmouseover(event['data']);\n",
       "    }\n",
       "\n",
       "    for(var toolbar_ind in mpl.toolbar_items){\n",
       "        var name = mpl.toolbar_items[toolbar_ind][0];\n",
       "        var tooltip = mpl.toolbar_items[toolbar_ind][1];\n",
       "        var image = mpl.toolbar_items[toolbar_ind][2];\n",
       "        var method_name = mpl.toolbar_items[toolbar_ind][3];\n",
       "\n",
       "        if (!name) { continue; };\n",
       "\n",
       "        var button = $('<button class=\"btn btn-default\" href=\"#\" title=\"' + name + '\"><i class=\"fa ' + image + ' fa-lg\"></i></button>');\n",
       "        button.click(method_name, toolbar_event);\n",
       "        button.mouseover(tooltip, toolbar_mouse_event);\n",
       "        nav_element.append(button);\n",
       "    }\n",
       "\n",
       "    // Add the status bar.\n",
       "    var status_bar = $('<span class=\"mpl-message\" style=\"text-align:right; float: right;\"/>');\n",
       "    nav_element.append(status_bar);\n",
       "    this.message = status_bar[0];\n",
       "\n",
       "    // Add the close button to the window.\n",
       "    var buttongrp = $('<div class=\"btn-group inline pull-right\"></div>');\n",
       "    var button = $('<button class=\"btn btn-mini btn-primary\" href=\"#\" title=\"Stop Interaction\"><i class=\"fa fa-power-off icon-remove icon-large\"></i></button>');\n",
       "    button.click(function (evt) { fig.handle_close(fig, {}); } );\n",
       "    button.mouseover('Stop Interaction', toolbar_mouse_event);\n",
       "    buttongrp.append(button);\n",
       "    var titlebar = this.root.find($('.ui-dialog-titlebar'));\n",
       "    titlebar.prepend(buttongrp);\n",
       "}\n",
       "\n",
       "mpl.figure.prototype._root_extra_style = function(el){\n",
       "    var fig = this\n",
       "    el.on(\"remove\", function(){\n",
       "\tfig.close_ws(fig, {});\n",
       "    });\n",
       "}\n",
       "\n",
       "mpl.figure.prototype._canvas_extra_style = function(el){\n",
       "    // this is important to make the div 'focusable\n",
       "    el.attr('tabindex', 0)\n",
       "    // reach out to IPython and tell the keyboard manager to turn it's self\n",
       "    // off when our div gets focus\n",
       "\n",
       "    // location in version 3\n",
       "    if (IPython.notebook.keyboard_manager) {\n",
       "        IPython.notebook.keyboard_manager.register_events(el);\n",
       "    }\n",
       "    else {\n",
       "        // location in version 2\n",
       "        IPython.keyboard_manager.register_events(el);\n",
       "    }\n",
       "\n",
       "}\n",
       "\n",
       "mpl.figure.prototype._key_event_extra = function(event, name) {\n",
       "    var manager = IPython.notebook.keyboard_manager;\n",
       "    if (!manager)\n",
       "        manager = IPython.keyboard_manager;\n",
       "\n",
       "    // Check for shift+enter\n",
       "    if (event.shiftKey && event.which == 13) {\n",
       "        this.canvas_div.blur();\n",
       "        // select the cell after this one\n",
       "        var index = IPython.notebook.find_cell_index(this.cell_info[0]);\n",
       "        IPython.notebook.select(index + 1);\n",
       "    }\n",
       "}\n",
       "\n",
       "mpl.figure.prototype.handle_save = function(fig, msg) {\n",
       "    fig.ondownload(fig, null);\n",
       "}\n",
       "\n",
       "\n",
       "mpl.find_output_cell = function(html_output) {\n",
       "    // Return the cell and output element which can be found *uniquely* in the notebook.\n",
       "    // Note - this is a bit hacky, but it is done because the \"notebook_saving.Notebook\"\n",
       "    // IPython event is triggered only after the cells have been serialised, which for\n",
       "    // our purposes (turning an active figure into a static one), is too late.\n",
       "    var cells = IPython.notebook.get_cells();\n",
       "    var ncells = cells.length;\n",
       "    for (var i=0; i<ncells; i++) {\n",
       "        var cell = cells[i];\n",
       "        if (cell.cell_type === 'code'){\n",
       "            for (var j=0; j<cell.output_area.outputs.length; j++) {\n",
       "                var data = cell.output_area.outputs[j];\n",
       "                if (data.data) {\n",
       "                    // IPython >= 3 moved mimebundle to data attribute of output\n",
       "                    data = data.data;\n",
       "                }\n",
       "                if (data['text/html'] == html_output) {\n",
       "                    return [cell, data, j];\n",
       "                }\n",
       "            }\n",
       "        }\n",
       "    }\n",
       "}\n",
       "\n",
       "// Register the function which deals with the matplotlib target/channel.\n",
       "// The kernel may be null if the page has been refreshed.\n",
       "if (IPython.notebook.kernel != null) {\n",
       "    IPython.notebook.kernel.comm_manager.register_target('matplotlib', mpl.mpl_figure_comm);\n",
       "}\n"
      ],
      "text/plain": [
       "<IPython.core.display.Javascript object>"
      ]
     },
     "metadata": {},
     "output_type": "display_data"
    },
    {
     "data": {
      "text/html": [
       "<img src=\"data:image/png;base64,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\" width=\"682\">"
      ],
      "text/plain": [
       "<IPython.core.display.HTML object>"
      ]
     },
     "metadata": {},
     "output_type": "display_data"
    }
   ],
   "source": [
    "%matplotlib notebook\n",
    "\n",
    "######################## Subspace W ##############################\n",
    "s = np.linspace(-.5, .5, 10)\n",
    "t = np.linspace(-.5, .5, 10)\n",
    "S, T = np.meshgrid(s, t)\n",
    "\n",
    "X1 = 2 * S - 2 * T\n",
    "X2 = 5 * S + T\n",
    "X3 = -S + T\n",
    "\n",
    "fig = plt.figure(figsize = (7, 7))\n",
    "ax = fig.add_subplot(projection='3d')\n",
    "ax.plot_wireframe(X1, X2, X3, linewidth = 1.5, alpha = .3)\n",
    "\n",
    "########################### vector y ###############################\n",
    "y = np.array([1, 2, 3])\n",
    "u1, u2 = np.array([2, 5, -1]), np.array([-2, 1, 1])\n",
    "\n",
    "vec = np.array([[0, 0, 0, y[0], y[1], y[2]]])\n",
    "X, Y, Z, U, V, W = zip(*vec)\n",
    "ax.quiver(X, Y, Z, U, V, W, length=1, normalize=False, color = 'red', alpha = .6,arrow_length_ratio = .08, pivot = 'tail',\n",
    "          linestyles = 'solid',linewidths = 3)\n",
    "\n",
    "ax.text(y[0], y[1], y[2], '$\\mathbf{y}$', size = 15)\n",
    "########################### vector u1 and u2 ###############################\n",
    "\n",
    "vec = np.array([[0, 0, 0, u1[0], u1[1], u1[2]]])\n",
    "X, Y, Z, U, V, W = zip(*vec)\n",
    "ax.quiver(X, Y, Z, U, V, W, length=1, normalize=False, color = 'red', alpha = .6,arrow_length_ratio = .08, pivot = 'tail',\n",
    "          linestyles = 'solid',linewidths = 3)\n",
    "\n",
    "vec = np.array([[0, 0, 0, u2[0], u2[1], u2[2]]])\n",
    "X, Y, Z, U, V, W = zip(*vec)\n",
    "ax.quiver(X, Y, Z, U, V, W, length=1, normalize=False, color = 'red', alpha = .6,arrow_length_ratio = .08, pivot = 'tail',\n",
    "          linestyles = 'solid',linewidths = 3)\n",
    "\n",
    "\n",
    "ax.text(u1[0], u1[1], u1[2], '$\\mathbf{u}_1$', size = 15)\n",
    "ax.text(u2[0], u2[1], u2[2], '$\\mathbf{u}_2$', size = 15)\n",
    "###########################  yhat ###############################\n",
    "\n",
    "alpha1 = (y@u1)/(u1@u1)\n",
    "alpha2 = (y@u2)/(u2@u2)\n",
    "\n",
    "yhat1 = alpha1*u1\n",
    "yhat2 = alpha2*u2\n",
    "yhat = yhat1 + yhat2\n",
    "\n",
    "vec = np.array([[0, 0, 0, yhat1[0], yhat1[1], yhat1[2]]])\n",
    "X, Y, Z, U, V, W = zip(*vec)\n",
    "ax.quiver(X, Y, Z, U, V, W, length=1, normalize=False, color = 'blue', alpha = .6,arrow_length_ratio = .08, pivot = 'tail',\n",
    "          linestyles = 'solid',linewidths = 3, zorder= 3)\n",
    "\n",
    "vec = np.array([[0, 0, 0, yhat2[0], yhat2[1], yhat2[2]]])\n",
    "X, Y, Z, U, V, W = zip(*vec)\n",
    "ax.quiver(X, Y, Z, U, V, W, length=1, normalize=False, color = 'blue', alpha = .6,arrow_length_ratio = .08, pivot = 'tail',\n",
    "          linestyles = 'solid',linewidths = 3, zorder= 3)\n",
    "\n",
    "vec = np.array([[0, 0, 0, yhat[0], yhat[1], yhat[2]]])\n",
    "X, Y, Z, U, V, W = zip(*vec)\n",
    "ax.quiver(X, Y, Z, U, V, W, length=1, normalize=False, color = 'pink', alpha = 1,arrow_length_ratio = .12, pivot = 'tail',\n",
    "          linestyles = 'solid',linewidths = 3, zorder= 3)\n",
    "\n",
    "ax.text(yhat1[0], yhat1[1], yhat1[2], '$\\hat{\\mathbf{y}}_1$', size = 15)\n",
    "ax.text(yhat2[0], yhat2[1], yhat2[2], '$\\hat{\\mathbf{y}}_2$', size = 15)\n",
    "ax.text(x = yhat[0], y = yhat[1], z = yhat[2], \n",
    "        s = r'$\\hat{\\mathbf{y}}=\\frac{\\mathbf{y} \\cdot \\mathbf{u}_{1}}{\\mathbf{u}_{1} \\cdot \\mathbf{u}_{1}} \\mathbf{u}_{1}+\\frac{\\mathbf{y} \\cdot \\mathbf{u}_{2}}{\\mathbf{u}_{2} \\cdot \\mathbf{u}_{2}} \\mathbf{u}_{2}=\\hat{\\mathbf{y}}_{1}+\\hat{\\mathbf{y}}_{2}$', size = 15)\n",
    "###########################  z ###############################\n",
    "z = y - yhat\n",
    "vec = np.array([[yhat[0], yhat[1], yhat[2], z[0], z[1], z[2]]])\n",
    "X, Y, Z, U, V, W = zip(*vec)\n",
    "ax.quiver(X, Y, Z, U, V, W, length=1, normalize=False, color = 'green', alpha = .6,arrow_length_ratio = .08, pivot = 'tail',\n",
    "          linestyles = 'solid',linewidths = 3)\n",
    "\n",
    "############################ Dashed Line ####################\n",
    "\n",
    "line1 = np.array([y, yhat1])\n",
    "ax.plot(line1[:,0], line1[:,1], line1[:,2], c = 'b', lw = 3.5,alpha =0.5, ls = '--')\n",
    "\n",
    "line2 = np.array([y, yhat2])\n",
    "ax.plot(line2[:,0], line2[:,1], line2[:,2], c = 'b', lw = 2.5,alpha =0.5, ls = '--')\n",
    "\n",
    "line3 = np.array([yhat, yhat2])\n",
    "ax.plot(line3[:,0], line3[:,1], line3[:,2], c = 'b', lw = 2.5,alpha =0.5, ls = '--')\n",
    "\n",
    "line4 = np.array([yhat, yhat1])\n",
    "ax.plot(line4[:,0], line4[:,1], line4[:,2], c = 'b', lw = 2.5,alpha =0.5, ls = '--')\n",
    "\n",
    "############################# View Angel\n",
    "ax.view_init(elev=-6, azim=12)"
   ]
  },
  {
   "cell_type": "markdown",
   "metadata": {},
   "source": [
    "# <font face=\"gotham\" color=\"purple\"> Orthonormal Sets</font>"
   ]
  },
  {
   "cell_type": "markdown",
   "metadata": {},
   "source": [
    "An <font face=\"gotham\" color=\"red\"> orthonormal set</font> is obtained from normalizing the orthogonal set, and also called <font face=\"gotham\" color=\"red\">orthonomal basis</font>."
   ]
  },
  {
   "cell_type": "markdown",
   "metadata": {},
   "source": [
    "Matrices whose columns form an orthonormal set are important for matrix computation.\n",
    "\n",
    "Let $U=\\left[\\begin{array}{lll}\n",
    "\\mathbf{u}_{1} & \\mathbf{u}_{2} & \\mathbf{u}_{3}\n",
    "\\end{array}\\right]$, where $\\mathbf{u}_{i}$'s are from an orthonormal set, the outer product, $U^TU$ is\n",
    "\n",
    "$$U^{T} U=\\left[\\begin{array}{l}\n",
    "\\mathbf{u}_{1}^{T} \\\\\n",
    "\\mathbf{u}_{2}^{T} \\\\\n",
    "\\mathbf{u}_{3}^{T}\n",
    "\\end{array}\\right]\\left[\\begin{array}{lll}\n",
    "\\mathbf{u}_{1} & \\mathbf{u}_{2} & \\mathbf{u}_{3}\n",
    "\\end{array}\\right]=\\left[\\begin{array}{lll}\n",
    "\\mathbf{u}_{1}^{T} \\mathbf{u}_{1} & \\mathbf{u}_{1}^{T} \\mathbf{u}_{2} & \\mathbf{u}_{1}^{T} \\mathbf{u}_{3} \\\\\n",
    "\\mathbf{u}_{2}^{T} \\mathbf{u}_{1} & \\mathbf{u}_{2}^{T} \\mathbf{u}_{2} & \\mathbf{u}_{2}^{T} \\mathbf{u}_{3} \\\\\n",
    "\\mathbf{u}_{3}^{T} \\mathbf{u}_{1} & \\mathbf{u}_{3}^{T} \\mathbf{u}_{2} & \\mathbf{u}_{3}^{T} \\mathbf{u}_{3}\n",
    "\\end{array}\\right]$$"
   ]
  },
  {
   "cell_type": "markdown",
   "metadata": {},
   "source": [
    "And $\\mathbf{u}_{i}^{T} \\mathbf{u}_{j}, i, j \\in (1, 2, 3)$ is an inner product."
   ]
  },
  {
   "cell_type": "markdown",
   "metadata": {},
   "source": [
    "Because of orthonormal sets, we have \n",
    "\n",
    "$$\n",
    "\\mathbf{u}_{1}^{T} \\mathbf{u}_{2}=\\mathbf{u}_{2}^{T} \\mathbf{u}_{1}=0, \\quad \\mathbf{u}_{1}^{T} \\mathbf{u}_{3}=\\mathbf{u}_{3}^{T} \\mathbf{u}_{1}=0, \\quad \\mathbf{u}_{2}^{T} \\mathbf{u}_{3}=\\mathbf{u}_{3}^{T} \\mathbf{u}_{2}=0\\\\\n",
    "\\mathbf{u}_{1}^{T} \\mathbf{u}_{1}=1, \\quad \\mathbf{u}_{2}^{T} \\mathbf{u}_{2}=1, \\quad \\mathbf{u}_{3}^{T} \\mathbf{u}_{3}=1\n",
    "$$"
   ]
  },
  {
   "cell_type": "markdown",
   "metadata": {},
   "source": [
    "which means\n",
    "\n",
    "$$\n",
    "U^TU = I\n",
    "$$"
   ]
  },
  {
   "cell_type": "markdown",
   "metadata": {},
   "source": [
    "Recall that we have a general projection formula \n",
    "\n",
    "$$\n",
    "\\hat{\\mathbf{y}}=\\frac{\\mathbf{y} \\cdot \\mathbf{u}_{1}}{\\mathbf{u}_{1} \\cdot \\mathbf{u}_{1}} \\mathbf{u}_{1}+\\cdots+\\frac{\\mathbf{y} \\cdot \\mathbf{u}_{p}}{\\mathbf{u}_{p} \\cdot \\mathbf{u}_{p}} \\mathbf{u}_{p}\n",
    "=\\frac{\\mathbf{y} \\cdot \\mathbf{u}_{1}}{{\\mathbf{u}_{1}^T} \\mathbf{u}_{1}} \\mathbf{u}_{1}+\\cdots+\\frac{\\mathbf{y} \\cdot \\mathbf{u}_{p}}{{\\mathbf{u}_{p}^T} \\mathbf{u}_{p}} \\mathbf{u}_{p}\\\\\n",
    "$$\n"
   ]
  },
  {
   "cell_type": "markdown",
   "metadata": {},
   "source": [
    "If the $\\{\\mathbf{u}_1,...,\\mathbf{u}_p\\}$ is an orthonormal set, then \n",
    "\n",
    "\\begin{align}\n",
    "\\hat{\\mathbf{y}}&=\\left(\\mathbf{y} \\cdot \\mathbf{u}_{1}\\right) \\mathbf{u}_{1}+\\left(\\mathbf{y} \\cdot \\mathbf{u}_{2}\\right) \\mathbf{u}_{2}+\\cdots+\\left(\\mathbf{y} \\cdot \\mathbf{u}_{p}\\right) \\mathbf{u}_{p}\\\\\n",
    "& = \\left(\\mathbf{u}_{1}^T\\mathbf{y}\\right) \\mathbf{u}_{1}+\\left(\\mathbf{u}_{2}^T\\mathbf{y}\\right) \\mathbf{u}_{2}+\\cdots+\\left(\\mathbf{u}_{p}^T\\mathbf{y}\\right) \\mathbf{u}_{p}\\\\\n",
    "\\end{align}"
   ]
  },
  {
   "cell_type": "markdown",
   "metadata": {},
   "source": [
    "# <font face=\"gotham\" color=\"purple\">Cross Product</font>"
   ]
  },
  {
   "cell_type": "markdown",
   "metadata": {},
   "source": [
    "This is the formula of Cross product\n",
    "$$\n",
    "\\mathbf{a} \\times \\mathbf{b}=\\|\\mathbf{a}\\|\\|\\mathbf{b}\\| \\sin (\\theta) \\mathbf{n}\n",
    "$$\n",
    "The output of cross product is the length of vector $\\mathbf{c}$ which is perpendicular to both $\\mathbf{a} $ and $\\mathbf{b} $. "
   ]
  },
  {
   "cell_type": "code",
   "execution_count": 5,
   "metadata": {},
   "outputs": [
    {
     "data": {
      "application/vnd.plotly.v1+json": {
       "config": {
        "plotlyServerURL": "https://plot.ly"
       },
       "data": [
        {
         "line": {
          "color": "red",
          "width": 5
         },
         "mode": "lines",
         "name": "Vector a",
         "type": "scatter3d",
         "x": [
          0,
          5
         ],
         "y": [
          0,
          2
         ],
         "z": [
          0,
          3
         ]
        },
        {
         "line": {
          "color": "green",
          "width": 5
         },
         "mode": "lines",
         "name": "Vector b",
         "type": "scatter3d",
         "x": [
          0,
          4
         ],
         "y": [
          0,
          8
         ],
         "z": [
          0,
          10
         ]
        },
        {
         "line": {
          "color": "blue",
          "width": 5
         },
         "mode": "lines",
         "name": "Vector c (cross product)",
         "type": "scatter3d",
         "x": [
          0,
          -4
         ],
         "y": [
          0,
          -38
         ],
         "z": [
          0,
          32
         ]
        }
       ],
       "layout": {
        "autosize": true,
        "dragmode": "zoom",
        "scene": {
         "aspectmode": "auto",
         "aspectratio": {
          "x": 1,
          "y": 1,
          "z": 1
         },
         "camera": {
          "center": {
           "x": 0,
           "y": 0,
           "z": 0
          },
          "eye": {
           "x": -0.25990546605663783,
           "y": -0.5512601488777543,
           "z": 0.30956711916836066
          },
          "projection": {
           "type": "perspective"
          },
          "up": {
           "x": 0,
           "y": 0,
           "z": 1
          }
         },
         "dragmode": "turntable",
         "xaxis": {
          "title": {
           "text": "X"
          },
          "type": "linear"
         },
         "yaxis": {
          "title": {
           "text": "Y"
          },
          "type": "linear"
         },
         "zaxis": {
          "title": {
           "text": "Z"
          },
          "type": "linear"
         }
        },
        "template": {
         "data": {
          "bar": [
           {
            "error_x": {
             "color": "#2a3f5f"
            },
            "error_y": {
             "color": "#2a3f5f"
            },
            "marker": {
             "line": {
              "color": "#E5ECF6",
              "width": 0.5
             },
             "pattern": {
              "fillmode": "overlay",
              "size": 10,
              "solidity": 0.2
             }
            },
            "type": "bar"
           }
          ],
          "barpolar": [
           {
            "marker": {
             "line": {
              "color": "#E5ECF6",
              "width": 0.5
             },
             "pattern": {
              "fillmode": "overlay",
              "size": 10,
              "solidity": 0.2
             }
            },
            "type": "barpolar"
           }
          ],
          "carpet": [
           {
            "aaxis": {
             "endlinecolor": "#2a3f5f",
             "gridcolor": "white",
             "linecolor": "white",
             "minorgridcolor": "white",
             "startlinecolor": "#2a3f5f"
            },
            "baxis": {
             "endlinecolor": "#2a3f5f",
             "gridcolor": "white",
             "linecolor": "white",
             "minorgridcolor": "white",
             "startlinecolor": "#2a3f5f"
            },
            "type": "carpet"
           }
          ],
          "choropleth": [
           {
            "colorbar": {
             "outlinewidth": 0,
             "ticks": ""
            },
            "type": "choropleth"
           }
          ],
          "contour": [
           {
            "colorbar": {
             "outlinewidth": 0,
             "ticks": ""
            },
            "colorscale": [
             [
              0,
              "#0d0887"
             ],
             [
              0.1111111111111111,
              "#46039f"
             ],
             [
              0.2222222222222222,
              "#7201a8"
             ],
             [
              0.3333333333333333,
              "#9c179e"
             ],
             [
              0.4444444444444444,
              "#bd3786"
             ],
             [
              0.5555555555555556,
              "#d8576b"
             ],
             [
              0.6666666666666666,
              "#ed7953"
             ],
             [
              0.7777777777777778,
              "#fb9f3a"
             ],
             [
              0.8888888888888888,
              "#fdca26"
             ],
             [
              1,
              "#f0f921"
             ]
            ],
            "type": "contour"
           }
          ],
          "contourcarpet": [
           {
            "colorbar": {
             "outlinewidth": 0,
             "ticks": ""
            },
            "type": "contourcarpet"
           }
          ],
          "heatmap": [
           {
            "colorbar": {
             "outlinewidth": 0,
             "ticks": ""
            },
            "colorscale": [
             [
              0,
              "#0d0887"
             ],
             [
              0.1111111111111111,
              "#46039f"
             ],
             [
              0.2222222222222222,
              "#7201a8"
             ],
             [
              0.3333333333333333,
              "#9c179e"
             ],
             [
              0.4444444444444444,
              "#bd3786"
             ],
             [
              0.5555555555555556,
              "#d8576b"
             ],
             [
              0.6666666666666666,
              "#ed7953"
             ],
             [
              0.7777777777777778,
              "#fb9f3a"
             ],
             [
              0.8888888888888888,
              "#fdca26"
             ],
             [
              1,
              "#f0f921"
             ]
            ],
            "type": "heatmap"
           }
          ],
          "heatmapgl": [
           {
            "colorbar": {
             "outlinewidth": 0,
             "ticks": ""
            },
            "colorscale": [
             [
              0,
              "#0d0887"
             ],
             [
              0.1111111111111111,
              "#46039f"
             ],
             [
              0.2222222222222222,
              "#7201a8"
             ],
             [
              0.3333333333333333,
              "#9c179e"
             ],
             [
              0.4444444444444444,
              "#bd3786"
             ],
             [
              0.5555555555555556,
              "#d8576b"
             ],
             [
              0.6666666666666666,
              "#ed7953"
             ],
             [
              0.7777777777777778,
              "#fb9f3a"
             ],
             [
              0.8888888888888888,
              "#fdca26"
             ],
             [
              1,
              "#f0f921"
             ]
            ],
            "type": "heatmapgl"
           }
          ],
          "histogram": [
           {
            "marker": {
             "pattern": {
              "fillmode": "overlay",
              "size": 10,
              "solidity": 0.2
             }
            },
            "type": "histogram"
           }
          ],
          "histogram2d": [
           {
            "colorbar": {
             "outlinewidth": 0,
             "ticks": ""
            },
            "colorscale": [
             [
              0,
              "#0d0887"
             ],
             [
              0.1111111111111111,
              "#46039f"
             ],
             [
              0.2222222222222222,
              "#7201a8"
             ],
             [
              0.3333333333333333,
              "#9c179e"
             ],
             [
              0.4444444444444444,
              "#bd3786"
             ],
             [
              0.5555555555555556,
              "#d8576b"
             ],
             [
              0.6666666666666666,
              "#ed7953"
             ],
             [
              0.7777777777777778,
              "#fb9f3a"
             ],
             [
              0.8888888888888888,
              "#fdca26"
             ],
             [
              1,
              "#f0f921"
             ]
            ],
            "type": "histogram2d"
           }
          ],
          "histogram2dcontour": [
           {
            "colorbar": {
             "outlinewidth": 0,
             "ticks": ""
            },
            "colorscale": [
             [
              0,
              "#0d0887"
             ],
             [
              0.1111111111111111,
              "#46039f"
             ],
             [
              0.2222222222222222,
              "#7201a8"
             ],
             [
              0.3333333333333333,
              "#9c179e"
             ],
             [
              0.4444444444444444,
              "#bd3786"
             ],
             [
              0.5555555555555556,
              "#d8576b"
             ],
             [
              0.6666666666666666,
              "#ed7953"
             ],
             [
              0.7777777777777778,
              "#fb9f3a"
             ],
             [
              0.8888888888888888,
              "#fdca26"
             ],
             [
              1,
              "#f0f921"
             ]
            ],
            "type": "histogram2dcontour"
           }
          ],
          "mesh3d": [
           {
            "colorbar": {
             "outlinewidth": 0,
             "ticks": ""
            },
            "type": "mesh3d"
           }
          ],
          "parcoords": [
           {
            "line": {
             "colorbar": {
              "outlinewidth": 0,
              "ticks": ""
             }
            },
            "type": "parcoords"
           }
          ],
          "pie": [
           {
            "automargin": true,
            "type": "pie"
           }
          ],
          "scatter": [
           {
            "marker": {
             "colorbar": {
              "outlinewidth": 0,
              "ticks": ""
             }
            },
            "type": "scatter"
           }
          ],
          "scatter3d": [
           {
            "line": {
             "colorbar": {
              "outlinewidth": 0,
              "ticks": ""
             }
            },
            "marker": {
             "colorbar": {
              "outlinewidth": 0,
              "ticks": ""
             }
            },
            "type": "scatter3d"
           }
          ],
          "scattercarpet": [
           {
            "marker": {
             "colorbar": {
              "outlinewidth": 0,
              "ticks": ""
             }
            },
            "type": "scattercarpet"
           }
          ],
          "scattergeo": [
           {
            "marker": {
             "colorbar": {
              "outlinewidth": 0,
              "ticks": ""
             }
            },
            "type": "scattergeo"
           }
          ],
          "scattergl": [
           {
            "marker": {
             "colorbar": {
              "outlinewidth": 0,
              "ticks": ""
             }
            },
            "type": "scattergl"
           }
          ],
          "scattermapbox": [
           {
            "marker": {
             "colorbar": {
              "outlinewidth": 0,
              "ticks": ""
             }
            },
            "type": "scattermapbox"
           }
          ],
          "scatterpolar": [
           {
            "marker": {
             "colorbar": {
              "outlinewidth": 0,
              "ticks": ""
             }
            },
            "type": "scatterpolar"
           }
          ],
          "scatterpolargl": [
           {
            "marker": {
             "colorbar": {
              "outlinewidth": 0,
              "ticks": ""
             }
            },
            "type": "scatterpolargl"
           }
          ],
          "scatterternary": [
           {
            "marker": {
             "colorbar": {
              "outlinewidth": 0,
              "ticks": ""
             }
            },
            "type": "scatterternary"
           }
          ],
          "surface": [
           {
            "colorbar": {
             "outlinewidth": 0,
             "ticks": ""
            },
            "colorscale": [
             [
              0,
              "#0d0887"
             ],
             [
              0.1111111111111111,
              "#46039f"
             ],
             [
              0.2222222222222222,
              "#7201a8"
             ],
             [
              0.3333333333333333,
              "#9c179e"
             ],
             [
              0.4444444444444444,
              "#bd3786"
             ],
             [
              0.5555555555555556,
              "#d8576b"
             ],
             [
              0.6666666666666666,
              "#ed7953"
             ],
             [
              0.7777777777777778,
              "#fb9f3a"
             ],
             [
              0.8888888888888888,
              "#fdca26"
             ],
             [
              1,
              "#f0f921"
             ]
            ],
            "type": "surface"
           }
          ],
          "table": [
           {
            "cells": {
             "fill": {
              "color": "#EBF0F8"
             },
             "line": {
              "color": "white"
             }
            },
            "header": {
             "fill": {
              "color": "#C8D4E3"
             },
             "line": {
              "color": "white"
             }
            },
            "type": "table"
           }
          ]
         },
         "layout": {
          "annotationdefaults": {
           "arrowcolor": "#2a3f5f",
           "arrowhead": 0,
           "arrowwidth": 1
          },
          "autotypenumbers": "strict",
          "coloraxis": {
           "colorbar": {
            "outlinewidth": 0,
            "ticks": ""
           }
          },
          "colorscale": {
           "diverging": [
            [
             0,
             "#8e0152"
            ],
            [
             0.1,
             "#c51b7d"
            ],
            [
             0.2,
             "#de77ae"
            ],
            [
             0.3,
             "#f1b6da"
            ],
            [
             0.4,
             "#fde0ef"
            ],
            [
             0.5,
             "#f7f7f7"
            ],
            [
             0.6,
             "#e6f5d0"
            ],
            [
             0.7,
             "#b8e186"
            ],
            [
             0.8,
             "#7fbc41"
            ],
            [
             0.9,
             "#4d9221"
            ],
            [
             1,
             "#276419"
            ]
           ],
           "sequential": [
            [
             0,
             "#0d0887"
            ],
            [
             0.1111111111111111,
             "#46039f"
            ],
            [
             0.2222222222222222,
             "#7201a8"
            ],
            [
             0.3333333333333333,
             "#9c179e"
            ],
            [
             0.4444444444444444,
             "#bd3786"
            ],
            [
             0.5555555555555556,
             "#d8576b"
            ],
            [
             0.6666666666666666,
             "#ed7953"
            ],
            [
             0.7777777777777778,
             "#fb9f3a"
            ],
            [
             0.8888888888888888,
             "#fdca26"
            ],
            [
             1,
             "#f0f921"
            ]
           ],
           "sequentialminus": [
            [
             0,
             "#0d0887"
            ],
            [
             0.1111111111111111,
             "#46039f"
            ],
            [
             0.2222222222222222,
             "#7201a8"
            ],
            [
             0.3333333333333333,
             "#9c179e"
            ],
            [
             0.4444444444444444,
             "#bd3786"
            ],
            [
             0.5555555555555556,
             "#d8576b"
            ],
            [
             0.6666666666666666,
             "#ed7953"
            ],
            [
             0.7777777777777778,
             "#fb9f3a"
            ],
            [
             0.8888888888888888,
             "#fdca26"
            ],
            [
             1,
             "#f0f921"
            ]
           ]
          },
          "colorway": [
           "#636efa",
           "#EF553B",
           "#00cc96",
           "#ab63fa",
           "#FFA15A",
           "#19d3f3",
           "#FF6692",
           "#B6E880",
           "#FF97FF",
           "#FECB52"
          ],
          "font": {
           "color": "#2a3f5f"
          },
          "geo": {
           "bgcolor": "white",
           "lakecolor": "white",
           "landcolor": "#E5ECF6",
           "showlakes": true,
           "showland": true,
           "subunitcolor": "white"
          },
          "hoverlabel": {
           "align": "left"
          },
          "hovermode": "closest",
          "mapbox": {
           "style": "light"
          },
          "paper_bgcolor": "white",
          "plot_bgcolor": "#E5ECF6",
          "polar": {
           "angularaxis": {
            "gridcolor": "white",
            "linecolor": "white",
            "ticks": ""
           },
           "bgcolor": "#E5ECF6",
           "radialaxis": {
            "gridcolor": "white",
            "linecolor": "white",
            "ticks": ""
           }
          },
          "scene": {
           "xaxis": {
            "backgroundcolor": "#E5ECF6",
            "gridcolor": "white",
            "gridwidth": 2,
            "linecolor": "white",
            "showbackground": true,
            "ticks": "",
            "zerolinecolor": "white"
           },
           "yaxis": {
            "backgroundcolor": "#E5ECF6",
            "gridcolor": "white",
            "gridwidth": 2,
            "linecolor": "white",
            "showbackground": true,
            "ticks": "",
            "zerolinecolor": "white"
           },
           "zaxis": {
            "backgroundcolor": "#E5ECF6",
            "gridcolor": "white",
            "gridwidth": 2,
            "linecolor": "white",
            "showbackground": true,
            "ticks": "",
            "zerolinecolor": "white"
           }
          },
          "shapedefaults": {
           "line": {
            "color": "#2a3f5f"
           }
          },
          "ternary": {
           "aaxis": {
            "gridcolor": "white",
            "linecolor": "white",
            "ticks": ""
           },
           "baxis": {
            "gridcolor": "white",
            "linecolor": "white",
            "ticks": ""
           },
           "bgcolor": "#E5ECF6",
           "caxis": {
            "gridcolor": "white",
            "linecolor": "white",
            "ticks": ""
           }
          },
          "title": {
           "x": 0.05
          },
          "xaxis": {
           "automargin": true,
           "gridcolor": "white",
           "linecolor": "white",
           "ticks": "",
           "title": {
            "standoff": 15
           },
           "zerolinecolor": "white",
           "zerolinewidth": 2
          },
          "yaxis": {
           "automargin": true,
           "gridcolor": "white",
           "linecolor": "white",
           "ticks": "",
           "title": {
            "standoff": 15
           },
           "zerolinecolor": "white",
           "zerolinewidth": 2
          }
         }
        }
       }
      },
      "image/png": "[encoded data removed]",
      "text/html": [
       "<div>                            <div id=\"11cf6eee-acaa-46c8-9f7c-7a391030fa3b\" class=\"plotly-graph-div\" style=\"height:525px; width:100%;\"></div>            <script type=\"text/javascript\">                require([\"plotly\"], function(Plotly) {                    window.PLOTLYENV=window.PLOTLYENV || {};                                    if (document.getElementById(\"11cf6eee-acaa-46c8-9f7c-7a391030fa3b\")) {                    Plotly.newPlot(                        \"11cf6eee-acaa-46c8-9f7c-7a391030fa3b\",                        [{\"line\":{\"color\":\"red\",\"width\":5},\"mode\":\"lines\",\"name\":\"Vector a\",\"x\":[0,5],\"y\":[0,2],\"z\":[0,3],\"type\":\"scatter3d\"},{\"line\":{\"color\":\"green\",\"width\":5},\"mode\":\"lines\",\"name\":\"Vector b\",\"x\":[0,4],\"y\":[0,8],\"z\":[0,10],\"type\":\"scatter3d\"},{\"line\":{\"color\":\"blue\",\"width\":5},\"mode\":\"lines\",\"name\":\"Vector c (cross product)\",\"x\":[0,-4],\"y\":[0,-38],\"z\":[0,32],\"type\":\"scatter3d\"}],                        {\"template\":{\"data\":{\"bar\":[{\"error_x\":{\"color\":\"#2a3f5f\"},\"error_y\":{\"color\":\"#2a3f5f\"},\"marker\":{\"line\":{\"color\":\"#E5ECF6\",\"width\":0.5},\"pattern\":{\"fillmode\":\"overlay\",\"size\":10,\"solidity\":0.2}},\"type\":\"bar\"}],\"barpolar\":[{\"marker\":{\"line\":{\"color\":\"#E5ECF6\",\"width\":0.5},\"pattern\":{\"fillmode\":\"overlay\",\"size\":10,\"solidity\":0.2}},\"type\":\"barpolar\"}],\"carpet\":[{\"aaxis\":{\"endlinecolor\":\"#2a3f5f\",\"gridcolor\":\"white\",\"linecolor\":\"white\",\"minorgridcolor\":\"white\",\"startlinecolor\":\"#2a3f5f\"},\"baxis\":{\"endlinecolor\":\"#2a3f5f\",\"gridcolor\":\"white\",\"linecolor\":\"white\",\"minorgridcolor\":\"white\",\"startlinecolor\":\"#2a3f5f\"},\"type\":\"carpet\"}],\"choropleth\":[{\"colorbar\":{\"outlinewidth\":0,\"ticks\":\"\"},\"type\":\"choropleth\"}],\"contour\":[{\"colorbar\":{\"outlinewidth\":0,\"ticks\":\"\"},\"colorscale\":[[0.0,\"#0d0887\"],[0.1111111111111111,\"#46039f\"],[0.2222222222222222,\"#7201a8\"],[0.3333333333333333,\"#9c179e\"],[0.4444444444444444,\"#bd3786\"],[0.5555555555555556,\"#d8576b\"],[0.6666666666666666,\"#ed7953\"],[0.7777777777777778,\"#fb9f3a\"],[0.8888888888888888,\"#fdca26\"],[1.0,\"#f0f921\"]],\"type\":\"contour\"}],\"contourcarpet\":[{\"colorbar\":{\"outlinewidth\":0,\"ticks\":\"\"},\"type\":\"contourcarpet\"}],\"heatmap\":[{\"colorbar\":{\"outlinewidth\":0,\"ticks\":\"\"},\"colorscale\":[[0.0,\"#0d0887\"],[0.1111111111111111,\"#46039f\"],[0.2222222222222222,\"#7201a8\"],[0.3333333333333333,\"#9c179e\"],[0.4444444444444444,\"#bd3786\"],[0.5555555555555556,\"#d8576b\"],[0.6666666666666666,\"#ed7953\"],[0.7777777777777778,\"#fb9f3a\"],[0.8888888888888888,\"#fdca26\"],[1.0,\"#f0f921\"]],\"type\":\"heatmap\"}],\"heatmapgl\":[{\"colorbar\":{\"outlinewidth\":0,\"ticks\":\"\"},\"colorscale\":[[0.0,\"#0d0887\"],[0.1111111111111111,\"#46039f\"],[0.2222222222222222,\"#7201a8\"],[0.3333333333333333,\"#9c179e\"],[0.4444444444444444,\"#bd3786\"],[0.5555555555555556,\"#d8576b\"],[0.6666666666666666,\"#ed7953\"],[0.7777777777777778,\"#fb9f3a\"],[0.8888888888888888,\"#fdca26\"],[1.0,\"#f0f921\"]],\"type\":\"heatmapgl\"}],\"histogram\":[{\"marker\":{\"pattern\":{\"fillmode\":\"overlay\",\"size\":10,\"solidity\":0.2}},\"type\":\"histogram\"}],\"histogram2d\":[{\"colorbar\":{\"outlinewidth\":0,\"ticks\":\"\"},\"colorscale\":[[0.0,\"#0d0887\"],[0.1111111111111111,\"#46039f\"],[0.2222222222222222,\"#7201a8\"],[0.3333333333333333,\"#9c179e\"],[0.4444444444444444,\"#bd3786\"],[0.5555555555555556,\"#d8576b\"],[0.6666666666666666,\"#ed7953\"],[0.7777777777777778,\"#fb9f3a\"],[0.8888888888888888,\"#fdca26\"],[1.0,\"#f0f921\"]],\"type\":\"histogram2d\"}],\"histogram2dcontour\":[{\"colorbar\":{\"outlinewidth\":0,\"ticks\":\"\"},\"colorscale\":[[0.0,\"#0d0887\"],[0.1111111111111111,\"#46039f\"],[0.2222222222222222,\"#7201a8\"],[0.3333333333333333,\"#9c179e\"],[0.4444444444444444,\"#bd3786\"],[0.5555555555555556,\"#d8576b\"],[0.6666666666666666,\"#ed7953\"],[0.7777777777777778,\"#fb9f3a\"],[0.8888888888888888,\"#fdca26\"],[1.0,\"#f0f921\"]],\"type\":\"histogram2dcontour\"}],\"mesh3d\":[{\"colorbar\":{\"outlinewidth\":0,\"ticks\":\"\"},\"type\":\"mesh3d\"}],\"parcoords\":[{\"line\":{\"colorbar\":{\"outlinewidth\":0,\"ticks\":\"\"}},\"type\":\"parcoords\"}],\"pie\":[{\"automargin\":true,\"type\":\"pie\"}],\"scatter\":[{\"marker\":{\"colorbar\":{\"outlinewidth\":0,\"ticks\":\"\"}},\"type\":\"scatter\"}],\"scatter3d\":[{\"line\":{\"colorbar\":{\"outlinewidth\":0,\"ticks\":\"\"}},\"marker\":{\"colorbar\":{\"outlinewidth\":0,\"ticks\":\"\"}},\"type\":\"scatter3d\"}],\"scattercarpet\":[{\"marker\":{\"colorbar\":{\"outlinewidth\":0,\"ticks\":\"\"}},\"type\":\"scattercarpet\"}],\"scattergeo\":[{\"marker\":{\"colorbar\":{\"outlinewidth\":0,\"ticks\":\"\"}},\"type\":\"scattergeo\"}],\"scattergl\":[{\"marker\":{\"colorbar\":{\"outlinewidth\":0,\"ticks\":\"\"}},\"type\":\"scattergl\"}],\"scattermapbox\":[{\"marker\":{\"colorbar\":{\"outlinewidth\":0,\"ticks\":\"\"}},\"type\":\"scattermapbox\"}],\"scatterpolar\":[{\"marker\":{\"colorbar\":{\"outlinewidth\":0,\"ticks\":\"\"}},\"type\":\"scatterpolar\"}],\"scatterpolargl\":[{\"marker\":{\"colorbar\":{\"outlinewidth\":0,\"ticks\":\"\"}},\"type\":\"scatterpolargl\"}],\"scatterternary\":[{\"marker\":{\"colorbar\":{\"outlinewidth\":0,\"ticks\":\"\"}},\"type\":\"scatterternary\"}],\"surface\":[{\"colorbar\":{\"outlinewidth\":0,\"ticks\":\"\"},\"colorscale\":[[0.0,\"#0d0887\"],[0.1111111111111111,\"#46039f\"],[0.2222222222222222,\"#7201a8\"],[0.3333333333333333,\"#9c179e\"],[0.4444444444444444,\"#bd3786\"],[0.5555555555555556,\"#d8576b\"],[0.6666666666666666,\"#ed7953\"],[0.7777777777777778,\"#fb9f3a\"],[0.8888888888888888,\"#fdca26\"],[1.0,\"#f0f921\"]],\"type\":\"surface\"}],\"table\":[{\"cells\":{\"fill\":{\"color\":\"#EBF0F8\"},\"line\":{\"color\":\"white\"}},\"header\":{\"fill\":{\"color\":\"#C8D4E3\"},\"line\":{\"color\":\"white\"}},\"type\":\"table\"}]},\"layout\":{\"annotationdefaults\":{\"arrowcolor\":\"#2a3f5f\",\"arrowhead\":0,\"arrowwidth\":1},\"autotypenumbers\":\"strict\",\"coloraxis\":{\"colorbar\":{\"outlinewidth\":0,\"ticks\":\"\"}},\"colorscale\":{\"diverging\":[[0,\"#8e0152\"],[0.1,\"#c51b7d\"],[0.2,\"#de77ae\"],[0.3,\"#f1b6da\"],[0.4,\"#fde0ef\"],[0.5,\"#f7f7f7\"],[0.6,\"#e6f5d0\"],[0.7,\"#b8e186\"],[0.8,\"#7fbc41\"],[0.9,\"#4d9221\"],[1,\"#276419\"]],\"sequential\":[[0.0,\"#0d0887\"],[0.1111111111111111,\"#46039f\"],[0.2222222222222222,\"#7201a8\"],[0.3333333333333333,\"#9c179e\"],[0.4444444444444444,\"#bd3786\"],[0.5555555555555556,\"#d8576b\"],[0.6666666666666666,\"#ed7953\"],[0.7777777777777778,\"#fb9f3a\"],[0.8888888888888888,\"#fdca26\"],[1.0,\"#f0f921\"]],\"sequentialminus\":[[0.0,\"#0d0887\"],[0.1111111111111111,\"#46039f\"],[0.2222222222222222,\"#7201a8\"],[0.3333333333333333,\"#9c179e\"],[0.4444444444444444,\"#bd3786\"],[0.5555555555555556,\"#d8576b\"],[0.6666666666666666,\"#ed7953\"],[0.7777777777777778,\"#fb9f3a\"],[0.8888888888888888,\"#fdca26\"],[1.0,\"#f0f921\"]]},\"colorway\":[\"#636efa\",\"#EF553B\",\"#00cc96\",\"#ab63fa\",\"#FFA15A\",\"#19d3f3\",\"#FF6692\",\"#B6E880\",\"#FF97FF\",\"#FECB52\"],\"font\":{\"color\":\"#2a3f5f\"},\"geo\":{\"bgcolor\":\"white\",\"lakecolor\":\"white\",\"landcolor\":\"#E5ECF6\",\"showlakes\":true,\"showland\":true,\"subunitcolor\":\"white\"},\"hoverlabel\":{\"align\":\"left\"},\"hovermode\":\"closest\",\"mapbox\":{\"style\":\"light\"},\"paper_bgcolor\":\"white\",\"plot_bgcolor\":\"#E5ECF6\",\"polar\":{\"angularaxis\":{\"gridcolor\":\"white\",\"linecolor\":\"white\",\"ticks\":\"\"},\"bgcolor\":\"#E5ECF6\",\"radialaxis\":{\"gridcolor\":\"white\",\"linecolor\":\"white\",\"ticks\":\"\"}},\"scene\":{\"xaxis\":{\"backgroundcolor\":\"#E5ECF6\",\"gridcolor\":\"white\",\"gridwidth\":2,\"linecolor\":\"white\",\"showbackground\":true,\"ticks\":\"\",\"zerolinecolor\":\"white\"},\"yaxis\":{\"backgroundcolor\":\"#E5ECF6\",\"gridcolor\":\"white\",\"gridwidth\":2,\"linecolor\":\"white\",\"showbackground\":true,\"ticks\":\"\",\"zerolinecolor\":\"white\"},\"zaxis\":{\"backgroundcolor\":\"#E5ECF6\",\"gridcolor\":\"white\",\"gridwidth\":2,\"linecolor\":\"white\",\"showbackground\":true,\"ticks\":\"\",\"zerolinecolor\":\"white\"}},\"shapedefaults\":{\"line\":{\"color\":\"#2a3f5f\"}},\"ternary\":{\"aaxis\":{\"gridcolor\":\"white\",\"linecolor\":\"white\",\"ticks\":\"\"},\"baxis\":{\"gridcolor\":\"white\",\"linecolor\":\"white\",\"ticks\":\"\"},\"bgcolor\":\"#E5ECF6\",\"caxis\":{\"gridcolor\":\"white\",\"linecolor\":\"white\",\"ticks\":\"\"}},\"title\":{\"x\":0.05},\"xaxis\":{\"automargin\":true,\"gridcolor\":\"white\",\"linecolor\":\"white\",\"ticks\":\"\",\"title\":{\"standoff\":15},\"zerolinecolor\":\"white\",\"zerolinewidth\":2},\"yaxis\":{\"automargin\":true,\"gridcolor\":\"white\",\"linecolor\":\"white\",\"ticks\":\"\",\"title\":{\"standoff\":15},\"zerolinecolor\":\"white\",\"zerolinewidth\":2}}},\"scene\":{\"xaxis\":{\"title\":{\"text\":\"X\"}},\"yaxis\":{\"title\":{\"text\":\"Y\"}},\"zaxis\":{\"title\":{\"text\":\"Z\"}}}},                        {\"responsive\": true}                    ).then(function(){\n",
       "                            \n",
       "var gd = document.getElementById('11cf6eee-acaa-46c8-9f7c-7a391030fa3b');\n",
       "var x = new MutationObserver(function (mutations, observer) {{\n",
       "        var display = window.getComputedStyle(gd).display;\n",
       "        if (!display || display === 'none') {{\n",
       "            console.log([gd, 'removed!']);\n",
       "            Plotly.purge(gd);\n",
       "            observer.disconnect();\n",
       "        }}\n",
       "}});\n",
       "\n",
       "// Listen for the removal of the full notebook cells\n",
       "var notebookContainer = gd.closest('#notebook-container');\n",
       "if (notebookContainer) {{\n",
       "    x.observe(notebookContainer, {childList: true});\n",
       "}}\n",
       "\n",
       "// Listen for the clearing of the current output cell\n",
       "var outputEl = gd.closest('.output');\n",
       "if (outputEl) {{\n",
       "    x.observe(outputEl, {childList: true});\n",
       "}}\n",
       "\n",
       "                        })                };                });            </script>        </div>"
      ]
     },
     "metadata": {},
     "output_type": "display_data"
    }
   ],
   "source": [
    "import plotly.graph_objects as go\n",
    "\n",
    "# Define the two vectors\n",
    "a = np.array([5, 2, 3])\n",
    "b = np.array([4, 8, 10])\n",
    "\n",
    "# Calculate the cross product\n",
    "c = np.cross(a, b)\n",
    "\n",
    "# Create the 3D plot\n",
    "fig = go.Figure(data=[\n",
    "    go.Scatter3d(x=[0, a[0]], y=[0, a[1]], z=[0, a[2]], mode='lines', name='Vector a', line=dict(color='red', width=5)),\n",
    "    go.Scatter3d(x=[0, b[0]], y=[0, b[1]], z=[0, b[2]], mode='lines', name='Vector b', line=dict(color='green', width=5)),\n",
    "    go.Scatter3d(x=[0, c[0]], y=[0, c[1]], z=[0, c[2]], mode='lines', name='Vector c (cross product)', line=dict(color='blue', width=5))\n",
    "])\n",
    "\n",
    "# Set the axis labels\n",
    "fig.update_layout(scene=dict(xaxis_title='X', yaxis_title='Y', zaxis_title='Z'))\n",
    "\n",
    "# Show the plot\n",
    "fig.show()\n"
   ]
  },
  {
   "cell_type": "code",
   "execution_count": null,
   "metadata": {},
   "outputs": [],
   "source": []
  }
 ],
 "metadata": {
  "kernelspec": {
   "display_name": "Python 3 (ipykernel)",
   "language": "python",
   "name": "python3"
  },
  "language_info": {
   "codemirror_mode": {
    "name": "ipython",
    "version": 3
   },
   "file_extension": ".py",
   "mimetype": "text/x-python",
   "name": "python",
   "nbconvert_exporter": "python",
   "pygments_lexer": "ipython3",
   "version": "3.9.12"
  },
  "toc": {
   "base_numbering": 1,
   "nav_menu": {},
   "number_sections": true,
   "sideBar": true,
   "skip_h1_title": false,
   "title_cell": "Table of Contents",
   "title_sidebar": "Contents",
   "toc_cell": false,
   "toc_position": {
    "height": "calc(100% - 180px)",
    "left": "10px",
    "top": "150px",
    "width": "165px"
   },
   "toc_section_display": true,
   "toc_window_display": true
  }
 },
 "nbformat": 4,
 "nbformat_minor": 4
}
